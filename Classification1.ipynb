{
 "cells": [
  {
   "cell_type": "code",
   "execution_count": 1,
   "id": "d1060e08",
   "metadata": {},
   "outputs": [],
   "source": [
    "import pandas as pd\n",
    "import numpy as np\n",
    "from sklearn.preprocessing import StandardScaler\n",
    "from sklearn.model_selection import train_test_split\n",
    "from sklearn.linear_model import LinearRegression\n",
    "from scipy.stats import zscore\n",
    "from sklearn.preprocessing import StandardScaler\n",
    "from sklearn.linear_model import LogisticRegression\n",
    "from sklearn.metrics import accuracy_score, classification_report, confusion_matrix\n",
    "from sklearn.ensemble import ExtraTreesClassifier\n",
    "import matplotlib.pyplot as plt\n",
    "from sklearn.tree import DecisionTreeClassifier\n",
    "from sklearn.metrics import accuracy_score, log_loss\n",
    "from sklearn.metrics import classification_report\n",
    "from sklearn.model_selection import GridSearchCV\n",
    "from sklearn.ensemble import RandomForestClassifier"
   ]
  },
  {
   "cell_type": "markdown",
   "id": "b1c4412d",
   "metadata": {},
   "source": [
    "## Data preprocessing for given dataset"
   ]
  },
  {
   "cell_type": "markdown",
   "id": "f618bc69",
   "metadata": {},
   "source": [
    "## 1. Data cleaning"
   ]
  },
  {
   "cell_type": "markdown",
   "id": "58d92064",
   "metadata": {},
   "source": [
    "### 1.1. Importing data and providing information"
   ]
  },
  {
   "cell_type": "code",
   "execution_count": 2,
   "id": "e6bb0fa2",
   "metadata": {
    "scrolled": false
   },
   "outputs": [
    {
     "data": {
      "text/html": [
       "<div>\n",
       "<style scoped>\n",
       "    .dataframe tbody tr th:only-of-type {\n",
       "        vertical-align: middle;\n",
       "    }\n",
       "\n",
       "    .dataframe tbody tr th {\n",
       "        vertical-align: top;\n",
       "    }\n",
       "\n",
       "    .dataframe thead th {\n",
       "        text-align: right;\n",
       "    }\n",
       "</style>\n",
       "<table border=\"1\" class=\"dataframe\">\n",
       "  <thead>\n",
       "    <tr style=\"text-align: right;\">\n",
       "      <th></th>\n",
       "      <th>Date</th>\n",
       "      <th>Open</th>\n",
       "      <th>High</th>\n",
       "      <th>Low</th>\n",
       "      <th>Close(t)</th>\n",
       "      <th>Volume</th>\n",
       "      <th>SD20</th>\n",
       "      <th>Upper_Band</th>\n",
       "      <th>Lower_Band</th>\n",
       "      <th>S_Close(t-1)</th>\n",
       "      <th>...</th>\n",
       "      <th>QQQ_MA10</th>\n",
       "      <th>QQQ_MA20</th>\n",
       "      <th>QQQ_MA50</th>\n",
       "      <th>SnP_Close</th>\n",
       "      <th>SnP(t-1))</th>\n",
       "      <th>SnP(t-5)</th>\n",
       "      <th>DJIA_Close</th>\n",
       "      <th>DJIA(t-1))</th>\n",
       "      <th>DJIA(t-5)</th>\n",
       "      <th>Close_forcast</th>\n",
       "    </tr>\n",
       "  </thead>\n",
       "  <tbody>\n",
       "    <tr>\n",
       "      <th>0</th>\n",
       "      <td>2010-10-18</td>\n",
       "      <td>165.00</td>\n",
       "      <td>165.19</td>\n",
       "      <td>161.82</td>\n",
       "      <td>163.56</td>\n",
       "      <td>6331300</td>\n",
       "      <td>3.770297</td>\n",
       "      <td>164.383594</td>\n",
       "      <td>149.302406</td>\n",
       "      <td>164.64</td>\n",
       "      <td>...</td>\n",
       "      <td>45.335</td>\n",
       "      <td>44.8280</td>\n",
       "      <td>42.6302</td>\n",
       "      <td>1184.71</td>\n",
       "      <td>1176.19</td>\n",
       "      <td>1165.32</td>\n",
       "      <td>11143.69</td>\n",
       "      <td>11062.78</td>\n",
       "      <td>11010.34</td>\n",
       "      <td>158.67</td>\n",
       "    </tr>\n",
       "    <tr>\n",
       "      <th>1</th>\n",
       "      <td>2010-10-19</td>\n",
       "      <td>160.68</td>\n",
       "      <td>162.80</td>\n",
       "      <td>157.00</td>\n",
       "      <td>158.67</td>\n",
       "      <td>7525000</td>\n",
       "      <td>3.501162</td>\n",
       "      <td>164.242324</td>\n",
       "      <td>150.237676</td>\n",
       "      <td>163.56</td>\n",
       "      <td>...</td>\n",
       "      <td>45.440</td>\n",
       "      <td>44.9185</td>\n",
       "      <td>42.6998</td>\n",
       "      <td>1165.90</td>\n",
       "      <td>1184.71</td>\n",
       "      <td>1169.77</td>\n",
       "      <td>10978.62</td>\n",
       "      <td>11143.69</td>\n",
       "      <td>11020.40</td>\n",
       "      <td>158.67</td>\n",
       "    </tr>\n",
       "    <tr>\n",
       "      <th>2</th>\n",
       "      <td>2010-10-20</td>\n",
       "      <td>158.78</td>\n",
       "      <td>159.87</td>\n",
       "      <td>156.57</td>\n",
       "      <td>158.67</td>\n",
       "      <td>5790400</td>\n",
       "      <td>3.271424</td>\n",
       "      <td>164.124849</td>\n",
       "      <td>151.039151</td>\n",
       "      <td>158.67</td>\n",
       "      <td>...</td>\n",
       "      <td>45.617</td>\n",
       "      <td>45.0315</td>\n",
       "      <td>42.7834</td>\n",
       "      <td>1178.17</td>\n",
       "      <td>1165.90</td>\n",
       "      <td>1178.10</td>\n",
       "      <td>11107.97</td>\n",
       "      <td>10978.62</td>\n",
       "      <td>11096.08</td>\n",
       "      <td>164.97</td>\n",
       "    </tr>\n",
       "    <tr>\n",
       "      <th>3</th>\n",
       "      <td>2010-10-21</td>\n",
       "      <td>162.67</td>\n",
       "      <td>166.13</td>\n",
       "      <td>161.29</td>\n",
       "      <td>164.97</td>\n",
       "      <td>13482500</td>\n",
       "      <td>3.465530</td>\n",
       "      <td>165.119061</td>\n",
       "      <td>151.256939</td>\n",
       "      <td>158.67</td>\n",
       "      <td>...</td>\n",
       "      <td>45.787</td>\n",
       "      <td>45.1500</td>\n",
       "      <td>42.8918</td>\n",
       "      <td>1180.26</td>\n",
       "      <td>1178.17</td>\n",
       "      <td>1173.81</td>\n",
       "      <td>11146.57</td>\n",
       "      <td>11107.97</td>\n",
       "      <td>11094.57</td>\n",
       "      <td>169.13</td>\n",
       "    </tr>\n",
       "    <tr>\n",
       "      <th>4</th>\n",
       "      <td>2010-10-22</td>\n",
       "      <td>162.45</td>\n",
       "      <td>170.17</td>\n",
       "      <td>162.27</td>\n",
       "      <td>169.13</td>\n",
       "      <td>16318400</td>\n",
       "      <td>4.217293</td>\n",
       "      <td>167.042587</td>\n",
       "      <td>150.173413</td>\n",
       "      <td>164.97</td>\n",
       "      <td>...</td>\n",
       "      <td>45.958</td>\n",
       "      <td>45.2395</td>\n",
       "      <td>43.0130</td>\n",
       "      <td>1183.08</td>\n",
       "      <td>1180.26</td>\n",
       "      <td>1176.19</td>\n",
       "      <td>11132.56</td>\n",
       "      <td>11146.57</td>\n",
       "      <td>11062.78</td>\n",
       "      <td>169.00</td>\n",
       "    </tr>\n",
       "  </tbody>\n",
       "</table>\n",
       "<p>5 rows × 64 columns</p>\n",
       "</div>"
      ],
      "text/plain": [
       "         Date    Open    High     Low  Close(t)    Volume      SD20  \\\n",
       "0  2010-10-18  165.00  165.19  161.82    163.56   6331300  3.770297   \n",
       "1  2010-10-19  160.68  162.80  157.00    158.67   7525000  3.501162   \n",
       "2  2010-10-20  158.78  159.87  156.57    158.67   5790400  3.271424   \n",
       "3  2010-10-21  162.67  166.13  161.29    164.97  13482500  3.465530   \n",
       "4  2010-10-22  162.45  170.17  162.27    169.13  16318400  4.217293   \n",
       "\n",
       "   Upper_Band  Lower_Band  S_Close(t-1)  ...  QQQ_MA10  QQQ_MA20  QQQ_MA50  \\\n",
       "0  164.383594  149.302406        164.64  ...    45.335   44.8280   42.6302   \n",
       "1  164.242324  150.237676        163.56  ...    45.440   44.9185   42.6998   \n",
       "2  164.124849  151.039151        158.67  ...    45.617   45.0315   42.7834   \n",
       "3  165.119061  151.256939        158.67  ...    45.787   45.1500   42.8918   \n",
       "4  167.042587  150.173413        164.97  ...    45.958   45.2395   43.0130   \n",
       "\n",
       "   SnP_Close  SnP(t-1))  SnP(t-5)  DJIA_Close  DJIA(t-1))  DJIA(t-5)  \\\n",
       "0    1184.71    1176.19   1165.32    11143.69    11062.78   11010.34   \n",
       "1    1165.90    1184.71   1169.77    10978.62    11143.69   11020.40   \n",
       "2    1178.17    1165.90   1178.10    11107.97    10978.62   11096.08   \n",
       "3    1180.26    1178.17   1173.81    11146.57    11107.97   11094.57   \n",
       "4    1183.08    1180.26   1176.19    11132.56    11146.57   11062.78   \n",
       "\n",
       "   Close_forcast  \n",
       "0         158.67  \n",
       "1         158.67  \n",
       "2         164.97  \n",
       "3         169.13  \n",
       "4         169.00  \n",
       "\n",
       "[5 rows x 64 columns]"
      ]
     },
     "execution_count": 2,
     "metadata": {},
     "output_type": "execute_result"
    }
   ],
   "source": [
    "df=pd.read_csv('AMZN.csv')\n",
    "# fb=pd.read_csv('FB.csv')\n",
    "# gg=pd.read_csv('GOOGL.csv')\n",
    "# ibm=pd.read_csv('IBM.csv')\n",
    "# msf=pd.read_csv('MSFT.csv')\n",
    "# df=pd.concat([msf,gg ,ibm ,fb ,amz], axis=0)\n",
    "df.head()"
   ]
  },
  {
   "cell_type": "code",
   "execution_count": 3,
   "id": "a3ed8a58",
   "metadata": {
    "scrolled": true
   },
   "outputs": [
    {
     "name": "stdout",
     "output_type": "stream",
     "text": [
      "<class 'pandas.core.frame.DataFrame'>\n",
      "RangeIndex: 2473 entries, 0 to 2472\n",
      "Data columns (total 64 columns):\n",
      " #   Column            Non-Null Count  Dtype  \n",
      "---  ------            --------------  -----  \n",
      " 0   Date              2473 non-null   object \n",
      " 1   Open              2473 non-null   float64\n",
      " 2   High              2473 non-null   float64\n",
      " 3   Low               2473 non-null   float64\n",
      " 4   Close(t)          2473 non-null   float64\n",
      " 5   Volume            2473 non-null   int64  \n",
      " 6   SD20              2473 non-null   float64\n",
      " 7   Upper_Band        2473 non-null   float64\n",
      " 8   Lower_Band        2473 non-null   float64\n",
      " 9   S_Close(t-1)      2473 non-null   float64\n",
      " 10  S_Close(t-2)      2473 non-null   float64\n",
      " 11  S_Close(t-3)      2473 non-null   float64\n",
      " 12  S_Close(t-5)      2473 non-null   float64\n",
      " 13  S_Open(t-1)       2473 non-null   float64\n",
      " 14  MA5               2473 non-null   float64\n",
      " 15  MA10              2473 non-null   float64\n",
      " 16  MA20              2473 non-null   float64\n",
      " 17  MA50              2473 non-null   float64\n",
      " 18  MA200             2473 non-null   float64\n",
      " 19  EMA10             2473 non-null   float64\n",
      " 20  EMA20             2473 non-null   float64\n",
      " 21  EMA50             2473 non-null   float64\n",
      " 22  EMA100            2473 non-null   float64\n",
      " 23  EMA200            2473 non-null   float64\n",
      " 24  MACD              2473 non-null   float64\n",
      " 25  MACD_EMA          2473 non-null   float64\n",
      " 26  ATR               2473 non-null   float64\n",
      " 27  ADX               2473 non-null   float64\n",
      " 28  CCI               2473 non-null   float64\n",
      " 29  ROC               2473 non-null   float64\n",
      " 30  RSI               2473 non-null   float64\n",
      " 31  William%R         2473 non-null   float64\n",
      " 32  SO%K              2473 non-null   float64\n",
      " 33  STD5              2473 non-null   float64\n",
      " 34  ForceIndex1       2473 non-null   float64\n",
      " 35  ForceIndex20      2473 non-null   float64\n",
      " 36  Date_col          2473 non-null   object \n",
      " 37  Day               2473 non-null   int64  \n",
      " 38  DayofWeek         2473 non-null   int64  \n",
      " 39  DayofYear         2473 non-null   int64  \n",
      " 40  Week              2473 non-null   int64  \n",
      " 41  Is_month_end      2473 non-null   int64  \n",
      " 42  Is_month_start    2473 non-null   int64  \n",
      " 43  Is_quarter_end    2473 non-null   int64  \n",
      " 44  Is_quarter_start  2473 non-null   int64  \n",
      " 45  Is_year_end       2473 non-null   int64  \n",
      " 46  Is_year_start     2473 non-null   int64  \n",
      " 47  Is_leap_year      2473 non-null   int64  \n",
      " 48  Year              2473 non-null   int64  \n",
      " 49  Month             2473 non-null   int64  \n",
      " 50  QQQ_Close         2473 non-null   float64\n",
      " 51  QQQ(t-1)          2473 non-null   float64\n",
      " 52  QQQ(t-2)          2473 non-null   float64\n",
      " 53  QQQ(t-5)          2473 non-null   float64\n",
      " 54  QQQ_MA10          2473 non-null   float64\n",
      " 55  QQQ_MA20          2473 non-null   float64\n",
      " 56  QQQ_MA50          2473 non-null   float64\n",
      " 57  SnP_Close         2473 non-null   float64\n",
      " 58  SnP(t-1))         2473 non-null   float64\n",
      " 59  SnP(t-5)          2473 non-null   float64\n",
      " 60  DJIA_Close        2473 non-null   float64\n",
      " 61  DJIA(t-1))        2473 non-null   float64\n",
      " 62  DJIA(t-5)         2473 non-null   float64\n",
      " 63  Close_forcast     2473 non-null   float64\n",
      "dtypes: float64(48), int64(14), object(2)\n",
      "memory usage: 1.2+ MB\n"
     ]
    }
   ],
   "source": [
    "df.info()"
   ]
  },
  {
   "cell_type": "code",
   "execution_count": 4,
   "id": "b7da71a4",
   "metadata": {
    "scrolled": true
   },
   "outputs": [
    {
     "data": {
      "text/html": [
       "<div>\n",
       "<style scoped>\n",
       "    .dataframe tbody tr th:only-of-type {\n",
       "        vertical-align: middle;\n",
       "    }\n",
       "\n",
       "    .dataframe tbody tr th {\n",
       "        vertical-align: top;\n",
       "    }\n",
       "\n",
       "    .dataframe thead th {\n",
       "        text-align: right;\n",
       "    }\n",
       "</style>\n",
       "<table border=\"1\" class=\"dataframe\">\n",
       "  <thead>\n",
       "    <tr style=\"text-align: right;\">\n",
       "      <th></th>\n",
       "      <th>Open</th>\n",
       "      <th>High</th>\n",
       "      <th>Low</th>\n",
       "      <th>Close(t)</th>\n",
       "      <th>Volume</th>\n",
       "      <th>SD20</th>\n",
       "      <th>Upper_Band</th>\n",
       "      <th>Lower_Band</th>\n",
       "      <th>S_Close(t-1)</th>\n",
       "      <th>S_Close(t-2)</th>\n",
       "      <th>...</th>\n",
       "      <th>QQQ_MA10</th>\n",
       "      <th>QQQ_MA20</th>\n",
       "      <th>QQQ_MA50</th>\n",
       "      <th>SnP_Close</th>\n",
       "      <th>SnP(t-1))</th>\n",
       "      <th>SnP(t-5)</th>\n",
       "      <th>DJIA_Close</th>\n",
       "      <th>DJIA(t-1))</th>\n",
       "      <th>DJIA(t-5)</th>\n",
       "      <th>Close_forcast</th>\n",
       "    </tr>\n",
       "  </thead>\n",
       "  <tbody>\n",
       "    <tr>\n",
       "      <th>count</th>\n",
       "      <td>2473.000000</td>\n",
       "      <td>2473.000000</td>\n",
       "      <td>2473.000000</td>\n",
       "      <td>2473.000000</td>\n",
       "      <td>2.473000e+03</td>\n",
       "      <td>2473.000000</td>\n",
       "      <td>2473.000000</td>\n",
       "      <td>2473.000000</td>\n",
       "      <td>2473.000000</td>\n",
       "      <td>2473.000000</td>\n",
       "      <td>...</td>\n",
       "      <td>2473.000000</td>\n",
       "      <td>2473.000000</td>\n",
       "      <td>2473.000000</td>\n",
       "      <td>2473.000000</td>\n",
       "      <td>2473.000000</td>\n",
       "      <td>2473.000000</td>\n",
       "      <td>2473.000000</td>\n",
       "      <td>2473.000000</td>\n",
       "      <td>2473.000000</td>\n",
       "      <td>2473.000000</td>\n",
       "    </tr>\n",
       "    <tr>\n",
       "      <th>mean</th>\n",
       "      <td>826.164590</td>\n",
       "      <td>834.746130</td>\n",
       "      <td>816.663631</td>\n",
       "      <td>826.197849</td>\n",
       "      <td>4.309489e+06</td>\n",
       "      <td>25.257533</td>\n",
       "      <td>865.297646</td>\n",
       "      <td>764.267514</td>\n",
       "      <td>824.986211</td>\n",
       "      <td>823.770396</td>\n",
       "      <td>...</td>\n",
       "      <td>113.401112</td>\n",
       "      <td>112.954962</td>\n",
       "      <td>111.653683</td>\n",
       "      <td>2098.568795</td>\n",
       "      <td>2097.680303</td>\n",
       "      <td>2094.146624</td>\n",
       "      <td>18694.046041</td>\n",
       "      <td>18687.238949</td>\n",
       "      <td>18660.280890</td>\n",
       "      <td>827.404666</td>\n",
       "    </tr>\n",
       "    <tr>\n",
       "      <th>std</th>\n",
       "      <td>698.038503</td>\n",
       "      <td>705.987111</td>\n",
       "      <td>689.294489</td>\n",
       "      <td>698.082871</td>\n",
       "      <td>2.417880e+06</td>\n",
       "      <td>29.641950</td>\n",
       "      <td>730.285700</td>\n",
       "      <td>638.652752</td>\n",
       "      <td>696.627602</td>\n",
       "      <td>695.169032</td>\n",
       "      <td>...</td>\n",
       "      <td>52.643302</td>\n",
       "      <td>52.248810</td>\n",
       "      <td>51.174082</td>\n",
       "      <td>596.210304</td>\n",
       "      <td>595.946837</td>\n",
       "      <td>594.947984</td>\n",
       "      <td>5129.355628</td>\n",
       "      <td>5128.307884</td>\n",
       "      <td>5124.540611</td>\n",
       "      <td>699.515103</td>\n",
       "    </tr>\n",
       "    <tr>\n",
       "      <th>min</th>\n",
       "      <td>157.840000</td>\n",
       "      <td>159.870000</td>\n",
       "      <td>156.570000</td>\n",
       "      <td>157.780000</td>\n",
       "      <td>8.813000e+05</td>\n",
       "      <td>2.454017</td>\n",
       "      <td>164.124849</td>\n",
       "      <td>148.681227</td>\n",
       "      <td>157.780000</td>\n",
       "      <td>155.530000</td>\n",
       "      <td>...</td>\n",
       "      <td>45.335000</td>\n",
       "      <td>44.828000</td>\n",
       "      <td>42.630200</td>\n",
       "      <td>1099.230000</td>\n",
       "      <td>1099.230000</td>\n",
       "      <td>1099.230000</td>\n",
       "      <td>10655.300000</td>\n",
       "      <td>10655.300000</td>\n",
       "      <td>10655.300000</td>\n",
       "      <td>157.780000</td>\n",
       "    </tr>\n",
       "    <tr>\n",
       "      <th>25%</th>\n",
       "      <td>266.810000</td>\n",
       "      <td>269.480000</td>\n",
       "      <td>263.850000</td>\n",
       "      <td>266.490000</td>\n",
       "      <td>2.755800e+06</td>\n",
       "      <td>6.951115</td>\n",
       "      <td>277.869989</td>\n",
       "      <td>253.212633</td>\n",
       "      <td>266.410000</td>\n",
       "      <td>266.380000</td>\n",
       "      <td>...</td>\n",
       "      <td>63.835000</td>\n",
       "      <td>63.633500</td>\n",
       "      <td>62.854000</td>\n",
       "      <td>1562.170000</td>\n",
       "      <td>1560.700000</td>\n",
       "      <td>1556.220000</td>\n",
       "      <td>14567.170000</td>\n",
       "      <td>14565.250000</td>\n",
       "      <td>14539.140000</td>\n",
       "      <td>266.560000</td>\n",
       "    </tr>\n",
       "    <tr>\n",
       "      <th>50%</th>\n",
       "      <td>528.520000</td>\n",
       "      <td>534.560000</td>\n",
       "      <td>521.400000</td>\n",
       "      <td>529.420000</td>\n",
       "      <td>3.686200e+06</td>\n",
       "      <td>13.908356</td>\n",
       "      <td>558.160917</td>\n",
       "      <td>472.483684</td>\n",
       "      <td>529.000000</td>\n",
       "      <td>527.460000</td>\n",
       "      <td>...</td>\n",
       "      <td>102.697000</td>\n",
       "      <td>102.748500</td>\n",
       "      <td>102.633400</td>\n",
       "      <td>2067.030000</td>\n",
       "      <td>2066.960000</td>\n",
       "      <td>2066.130000</td>\n",
       "      <td>17716.050000</td>\n",
       "      <td>17712.660000</td>\n",
       "      <td>17705.910000</td>\n",
       "      <td>529.440000</td>\n",
       "    </tr>\n",
       "    <tr>\n",
       "      <th>75%</th>\n",
       "      <td>1445.000000</td>\n",
       "      <td>1459.780000</td>\n",
       "      <td>1415.020000</td>\n",
       "      <td>1442.840000</td>\n",
       "      <td>5.070300e+06</td>\n",
       "      <td>31.115370</td>\n",
       "      <td>1552.733137</td>\n",
       "      <td>1334.556935</td>\n",
       "      <td>1441.500000</td>\n",
       "      <td>1437.820000</td>\n",
       "      <td>...</td>\n",
       "      <td>157.845000</td>\n",
       "      <td>157.894500</td>\n",
       "      <td>158.643600</td>\n",
       "      <td>2639.440000</td>\n",
       "      <td>2639.400000</td>\n",
       "      <td>2636.780000</td>\n",
       "      <td>23924.980000</td>\n",
       "      <td>23909.840000</td>\n",
       "      <td>23860.460000</td>\n",
       "      <td>1447.340000</td>\n",
       "    </tr>\n",
       "    <tr>\n",
       "      <th>max</th>\n",
       "      <td>3251.060000</td>\n",
       "      <td>3344.290000</td>\n",
       "      <td>3165.430000</td>\n",
       "      <td>3225.000000</td>\n",
       "      <td>2.413420e+07</td>\n",
       "      <td>205.254540</td>\n",
       "      <td>3321.751870</td>\n",
       "      <td>2948.254283</td>\n",
       "      <td>3225.000000</td>\n",
       "      <td>3225.000000</td>\n",
       "      <td>...</td>\n",
       "      <td>270.255000</td>\n",
       "      <td>265.454000</td>\n",
       "      <td>255.044600</td>\n",
       "      <td>3386.150000</td>\n",
       "      <td>3386.150000</td>\n",
       "      <td>3386.150000</td>\n",
       "      <td>29551.420000</td>\n",
       "      <td>29551.420000</td>\n",
       "      <td>29551.420000</td>\n",
       "      <td>3225.000000</td>\n",
       "    </tr>\n",
       "  </tbody>\n",
       "</table>\n",
       "<p>8 rows × 62 columns</p>\n",
       "</div>"
      ],
      "text/plain": [
       "              Open         High          Low     Close(t)        Volume  \\\n",
       "count  2473.000000  2473.000000  2473.000000  2473.000000  2.473000e+03   \n",
       "mean    826.164590   834.746130   816.663631   826.197849  4.309489e+06   \n",
       "std     698.038503   705.987111   689.294489   698.082871  2.417880e+06   \n",
       "min     157.840000   159.870000   156.570000   157.780000  8.813000e+05   \n",
       "25%     266.810000   269.480000   263.850000   266.490000  2.755800e+06   \n",
       "50%     528.520000   534.560000   521.400000   529.420000  3.686200e+06   \n",
       "75%    1445.000000  1459.780000  1415.020000  1442.840000  5.070300e+06   \n",
       "max    3251.060000  3344.290000  3165.430000  3225.000000  2.413420e+07   \n",
       "\n",
       "              SD20   Upper_Band   Lower_Band  S_Close(t-1)  S_Close(t-2)  ...  \\\n",
       "count  2473.000000  2473.000000  2473.000000   2473.000000   2473.000000  ...   \n",
       "mean     25.257533   865.297646   764.267514    824.986211    823.770396  ...   \n",
       "std      29.641950   730.285700   638.652752    696.627602    695.169032  ...   \n",
       "min       2.454017   164.124849   148.681227    157.780000    155.530000  ...   \n",
       "25%       6.951115   277.869989   253.212633    266.410000    266.380000  ...   \n",
       "50%      13.908356   558.160917   472.483684    529.000000    527.460000  ...   \n",
       "75%      31.115370  1552.733137  1334.556935   1441.500000   1437.820000  ...   \n",
       "max     205.254540  3321.751870  2948.254283   3225.000000   3225.000000  ...   \n",
       "\n",
       "          QQQ_MA10     QQQ_MA20     QQQ_MA50    SnP_Close    SnP(t-1))  \\\n",
       "count  2473.000000  2473.000000  2473.000000  2473.000000  2473.000000   \n",
       "mean    113.401112   112.954962   111.653683  2098.568795  2097.680303   \n",
       "std      52.643302    52.248810    51.174082   596.210304   595.946837   \n",
       "min      45.335000    44.828000    42.630200  1099.230000  1099.230000   \n",
       "25%      63.835000    63.633500    62.854000  1562.170000  1560.700000   \n",
       "50%     102.697000   102.748500   102.633400  2067.030000  2066.960000   \n",
       "75%     157.845000   157.894500   158.643600  2639.440000  2639.400000   \n",
       "max     270.255000   265.454000   255.044600  3386.150000  3386.150000   \n",
       "\n",
       "          SnP(t-5)    DJIA_Close    DJIA(t-1))     DJIA(t-5)  Close_forcast  \n",
       "count  2473.000000   2473.000000   2473.000000   2473.000000    2473.000000  \n",
       "mean   2094.146624  18694.046041  18687.238949  18660.280890     827.404666  \n",
       "std     594.947984   5129.355628   5128.307884   5124.540611     699.515103  \n",
       "min    1099.230000  10655.300000  10655.300000  10655.300000     157.780000  \n",
       "25%    1556.220000  14567.170000  14565.250000  14539.140000     266.560000  \n",
       "50%    2066.130000  17716.050000  17712.660000  17705.910000     529.440000  \n",
       "75%    2636.780000  23924.980000  23909.840000  23860.460000    1447.340000  \n",
       "max    3386.150000  29551.420000  29551.420000  29551.420000    3225.000000  \n",
       "\n",
       "[8 rows x 62 columns]"
      ]
     },
     "execution_count": 4,
     "metadata": {},
     "output_type": "execute_result"
    }
   ],
   "source": [
    "df.describe()"
   ]
  },
  {
   "cell_type": "code",
   "execution_count": 5,
   "id": "8ddac20e",
   "metadata": {
    "scrolled": true
   },
   "outputs": [
    {
     "data": {
      "text/plain": [
       "Index(['Date', 'Open', 'High', 'Low', 'Close(t)', 'Volume', 'SD20',\n",
       "       'Upper_Band', 'Lower_Band', 'S_Close(t-1)', 'S_Close(t-2)',\n",
       "       'S_Close(t-3)', 'S_Close(t-5)', 'S_Open(t-1)', 'MA5', 'MA10', 'MA20',\n",
       "       'MA50', 'MA200', 'EMA10', 'EMA20', 'EMA50', 'EMA100', 'EMA200', 'MACD',\n",
       "       'MACD_EMA', 'ATR', 'ADX', 'CCI', 'ROC', 'RSI', 'William%R', 'SO%K',\n",
       "       'STD5', 'ForceIndex1', 'ForceIndex20', 'Date_col', 'Day', 'DayofWeek',\n",
       "       'DayofYear', 'Week', 'Is_month_end', 'Is_month_start', 'Is_quarter_end',\n",
       "       'Is_quarter_start', 'Is_year_end', 'Is_year_start', 'Is_leap_year',\n",
       "       'Year', 'Month', 'QQQ_Close', 'QQQ(t-1)', 'QQQ(t-2)', 'QQQ(t-5)',\n",
       "       'QQQ_MA10', 'QQQ_MA20', 'QQQ_MA50', 'SnP_Close', 'SnP(t-1))',\n",
       "       'SnP(t-5)', 'DJIA_Close', 'DJIA(t-1))', 'DJIA(t-5)', 'Close_forcast'],\n",
       "      dtype='object')"
      ]
     },
     "execution_count": 5,
     "metadata": {},
     "output_type": "execute_result"
    }
   ],
   "source": [
    "df.columns"
   ]
  },
  {
   "cell_type": "markdown",
   "id": "936240ff",
   "metadata": {},
   "source": [
    "### 1.2. Handling null values"
   ]
  },
  {
   "cell_type": "code",
   "execution_count": 6,
   "id": "994b4606",
   "metadata": {},
   "outputs": [
    {
     "name": "stdout",
     "output_type": "stream",
     "text": [
      "No null values detected.\n"
     ]
    }
   ],
   "source": [
    "df.isnull().any().any()\n",
    "print(\"No null values detected.\")"
   ]
  },
  {
   "cell_type": "markdown",
   "id": "9c435f97",
   "metadata": {},
   "source": [
    "## 2. Data manupulation and analysis"
   ]
  },
  {
   "cell_type": "markdown",
   "id": "c0759e58",
   "metadata": {},
   "source": [
    "### 2.1. Creating new trend column"
   ]
  },
  {
   "cell_type": "code",
   "execution_count": 7,
   "id": "6c5af501",
   "metadata": {
    "scrolled": true
   },
   "outputs": [
    {
     "data": {
      "text/html": [
       "<div>\n",
       "<style scoped>\n",
       "    .dataframe tbody tr th:only-of-type {\n",
       "        vertical-align: middle;\n",
       "    }\n",
       "\n",
       "    .dataframe tbody tr th {\n",
       "        vertical-align: top;\n",
       "    }\n",
       "\n",
       "    .dataframe thead th {\n",
       "        text-align: right;\n",
       "    }\n",
       "</style>\n",
       "<table border=\"1\" class=\"dataframe\">\n",
       "  <thead>\n",
       "    <tr style=\"text-align: right;\">\n",
       "      <th></th>\n",
       "      <th>0</th>\n",
       "      <th>1</th>\n",
       "      <th>2</th>\n",
       "      <th>3</th>\n",
       "      <th>4</th>\n",
       "    </tr>\n",
       "  </thead>\n",
       "  <tbody>\n",
       "    <tr>\n",
       "      <th>Date</th>\n",
       "      <td>2010-10-18</td>\n",
       "      <td>2010-10-19</td>\n",
       "      <td>2010-10-20</td>\n",
       "      <td>2010-10-21</td>\n",
       "      <td>2010-10-22</td>\n",
       "    </tr>\n",
       "    <tr>\n",
       "      <th>Open</th>\n",
       "      <td>165.0</td>\n",
       "      <td>160.68</td>\n",
       "      <td>158.78</td>\n",
       "      <td>162.67</td>\n",
       "      <td>162.45</td>\n",
       "    </tr>\n",
       "    <tr>\n",
       "      <th>High</th>\n",
       "      <td>165.19</td>\n",
       "      <td>162.8</td>\n",
       "      <td>159.87</td>\n",
       "      <td>166.13</td>\n",
       "      <td>170.17</td>\n",
       "    </tr>\n",
       "    <tr>\n",
       "      <th>Low</th>\n",
       "      <td>161.82</td>\n",
       "      <td>157.0</td>\n",
       "      <td>156.57</td>\n",
       "      <td>161.29</td>\n",
       "      <td>162.27</td>\n",
       "    </tr>\n",
       "    <tr>\n",
       "      <th>Close(t)</th>\n",
       "      <td>163.56</td>\n",
       "      <td>158.67</td>\n",
       "      <td>158.67</td>\n",
       "      <td>164.97</td>\n",
       "      <td>169.13</td>\n",
       "    </tr>\n",
       "    <tr>\n",
       "      <th>...</th>\n",
       "      <td>...</td>\n",
       "      <td>...</td>\n",
       "      <td>...</td>\n",
       "      <td>...</td>\n",
       "      <td>...</td>\n",
       "    </tr>\n",
       "    <tr>\n",
       "      <th>DJIA(t-1))</th>\n",
       "      <td>11062.78</td>\n",
       "      <td>11143.69</td>\n",
       "      <td>10978.62</td>\n",
       "      <td>11107.97</td>\n",
       "      <td>11146.57</td>\n",
       "    </tr>\n",
       "    <tr>\n",
       "      <th>DJIA(t-5)</th>\n",
       "      <td>11010.34</td>\n",
       "      <td>11020.4</td>\n",
       "      <td>11096.08</td>\n",
       "      <td>11094.57</td>\n",
       "      <td>11062.78</td>\n",
       "    </tr>\n",
       "    <tr>\n",
       "      <th>Close_forcast</th>\n",
       "      <td>158.67</td>\n",
       "      <td>158.67</td>\n",
       "      <td>164.97</td>\n",
       "      <td>169.13</td>\n",
       "      <td>169.0</td>\n",
       "    </tr>\n",
       "    <tr>\n",
       "      <th>Stock Price Difference</th>\n",
       "      <td>1.44</td>\n",
       "      <td>2.01</td>\n",
       "      <td>0.11</td>\n",
       "      <td>-2.3</td>\n",
       "      <td>-6.68</td>\n",
       "    </tr>\n",
       "    <tr>\n",
       "      <th>Trend</th>\n",
       "      <td>1</td>\n",
       "      <td>1</td>\n",
       "      <td>1</td>\n",
       "      <td>2</td>\n",
       "      <td>2</td>\n",
       "    </tr>\n",
       "  </tbody>\n",
       "</table>\n",
       "<p>66 rows × 5 columns</p>\n",
       "</div>"
      ],
      "text/plain": [
       "                                 0           1           2           3  \\\n",
       "Date                    2010-10-18  2010-10-19  2010-10-20  2010-10-21   \n",
       "Open                         165.0      160.68      158.78      162.67   \n",
       "High                        165.19       162.8      159.87      166.13   \n",
       "Low                         161.82       157.0      156.57      161.29   \n",
       "Close(t)                    163.56      158.67      158.67      164.97   \n",
       "...                            ...         ...         ...         ...   \n",
       "DJIA(t-1))                11062.78    11143.69    10978.62    11107.97   \n",
       "DJIA(t-5)                 11010.34     11020.4    11096.08    11094.57   \n",
       "Close_forcast               158.67      158.67      164.97      169.13   \n",
       "Stock Price Difference        1.44        2.01        0.11        -2.3   \n",
       "Trend                            1           1           1           2   \n",
       "\n",
       "                                 4  \n",
       "Date                    2010-10-22  \n",
       "Open                        162.45  \n",
       "High                        170.17  \n",
       "Low                         162.27  \n",
       "Close(t)                    169.13  \n",
       "...                            ...  \n",
       "DJIA(t-1))                11146.57  \n",
       "DJIA(t-5)                 11062.78  \n",
       "Close_forcast                169.0  \n",
       "Stock Price Difference       -6.68  \n",
       "Trend                            2  \n",
       "\n",
       "[66 rows x 5 columns]"
      ]
     },
     "execution_count": 7,
     "metadata": {},
     "output_type": "execute_result"
    }
   ],
   "source": [
    "# Here, open is the previous stock price and close(t) is the current\n",
    "# stock price\n",
    "\n",
    "# Subtracting the stock prices we get the trend of stock going up (1)\n",
    "# or down(0)\n",
    "\n",
    "df['Stock Price Difference'] = df['Open'] - df['Close(t)']\n",
    "def assign_category(value):\n",
    "    if value > 0:\n",
    "        return 1\n",
    "    else:\n",
    "        return 2 # no 0 value, so value=0 not taken\n",
    "\n",
    "df['Trend'] = df['Stock Price Difference'].apply(assign_category)\n",
    "df.head().T"
   ]
  },
  {
   "cell_type": "markdown",
   "id": "fd02fc1e",
   "metadata": {},
   "source": [
    "### 2.2. Dropping irrelevant columns"
   ]
  },
  {
   "cell_type": "code",
   "execution_count": 8,
   "id": "9d316885",
   "metadata": {},
   "outputs": [],
   "source": [
    "X=df.iloc[:,0:64] #independent columns\n",
    "cols = [0, 36, 63]\n",
    "X.drop(X.columns[cols], axis=1, inplace=True)\n",
    "y=df.iloc[:,-1] #target variable"
   ]
  },
  {
   "cell_type": "code",
   "execution_count": 9,
   "id": "f8a65d68",
   "metadata": {
    "scrolled": true
   },
   "outputs": [],
   "source": [
    "#from sklearn.preprocessing import StandardScaler\n",
    "#scaler=StandardScaler()\n",
    "#X=scaler.fit_transform(X)\n",
    "#X"
   ]
  },
  {
   "cell_type": "markdown",
   "id": "607e3c1e",
   "metadata": {},
   "source": [
    "### 2.3. Handling outliers"
   ]
  },
  {
   "cell_type": "code",
   "execution_count": 10,
   "id": "aa15e897",
   "metadata": {},
   "outputs": [],
   "source": [
    "z_scores = zscore(X)\n",
    "data_no_outliers = X[(np.abs(z_scores) < 3).all(axis=1)]"
   ]
  },
  {
   "cell_type": "code",
   "execution_count": 11,
   "id": "95338da5",
   "metadata": {},
   "outputs": [
    {
     "name": "stdout",
     "output_type": "stream",
     "text": [
      "\n",
      "No outliers detected.\n"
     ]
    }
   ],
   "source": [
    "if data_no_outliers.empty:\n",
    "    print(\"\\nNo outliers detected.\")\n",
    "else:\n",
    "    print(\"\\nData without outliers:\")\n",
    "    print(data_no_outliers)"
   ]
  },
  {
   "cell_type": "code",
   "execution_count": 12,
   "id": "9631fa16",
   "metadata": {},
   "outputs": [
    {
     "data": {
      "text/plain": [
       "(2473, 61)"
      ]
     },
     "execution_count": 12,
     "metadata": {},
     "output_type": "execute_result"
    }
   ],
   "source": [
    "X.shape"
   ]
  },
  {
   "cell_type": "code",
   "execution_count": 13,
   "id": "c8db0b40",
   "metadata": {},
   "outputs": [
    {
     "data": {
      "text/plain": [
       "(2473,)"
      ]
     },
     "execution_count": 13,
     "metadata": {},
     "output_type": "execute_result"
    }
   ],
   "source": [
    "y.shape"
   ]
  },
  {
   "cell_type": "markdown",
   "id": "dc256477",
   "metadata": {},
   "source": [
    "## 3. Data transformation"
   ]
  },
  {
   "cell_type": "markdown",
   "id": "0f09e873",
   "metadata": {},
   "source": [
    "### 3.1. Scaling the given features"
   ]
  },
  {
   "cell_type": "code",
   "execution_count": 14,
   "id": "7e8debf7",
   "metadata": {},
   "outputs": [],
   "source": [
    "# Scaling all the features and the target variable as well\n",
    "scaler_features = StandardScaler()\n",
    "scaler_target = StandardScaler()\n",
    "\n",
    "X_scaled = scaler_features.fit_transform(X)\n",
    "y_scaled = scaler_target.fit_transform(y.values.reshape(-1, 1)).flatten()"
   ]
  },
  {
   "cell_type": "markdown",
   "id": "cab53c12",
   "metadata": {},
   "source": [
    "## 4. Data splitting"
   ]
  },
  {
   "cell_type": "code",
   "execution_count": 15,
   "id": "596a2557",
   "metadata": {},
   "outputs": [],
   "source": [
    "X_train, X_test, y_train, y_test = train_test_split(X_scaled, y_scaled, test_size=0.2, random_state=26)\n",
    "\n",
    "# Creating a model\n",
    "model = LinearRegression()\n",
    "\n",
    "# Training the model on the training set\n",
    "model.fit(X_train, y_train)\n",
    "\n",
    "# Making predictions on the test set\n",
    "y_pred = model.predict(X_test)"
   ]
  },
  {
   "cell_type": "code",
   "execution_count": 16,
   "id": "2705abc6",
   "metadata": {
    "scrolled": true
   },
   "outputs": [
    {
     "name": "stdout",
     "output_type": "stream",
     "text": [
      "Accuracy: 0.7232323232323232\n",
      "Confusion Matrix:\n",
      " [[166  63]\n",
      " [ 74 192]]\n",
      "Classification Report:\n",
      "               precision    recall  f1-score   support\n",
      "\n",
      "           1       0.69      0.72      0.71       229\n",
      "           2       0.75      0.72      0.74       266\n",
      "\n",
      "    accuracy                           0.72       495\n",
      "   macro avg       0.72      0.72      0.72       495\n",
      "weighted avg       0.72      0.72      0.72       495\n",
      "\n"
     ]
    }
   ],
   "source": [
    "X_train, X_test, y_train, y_test = train_test_split(X, y, test_size=0.2, random_state=26)\n",
    "\n",
    "# Standardize the features\n",
    "scaler = StandardScaler()\n",
    "X_train_scaled = scaler.fit_transform(X_train)\n",
    "X_test_scaled = scaler.transform(X_test)\n",
    "\n",
    "# Creating a classification model (Logistic Regression)\n",
    "classifier = LogisticRegression(random_state=26,max_iter=3000)\n",
    "\n",
    "# Training the model on the training set\n",
    "classifier.fit(X_train_scaled, y_train)\n",
    "\n",
    "# Making predictions on the test set\n",
    "y_pred = classifier.predict(X_test_scaled)\n",
    "\n",
    "# Evaluating the model\n",
    "accuracy = accuracy_score(y_test, y_pred)\n",
    "conf_matrix = confusion_matrix(y_test, y_pred)\n",
    "class_report = classification_report(y_test, y_pred)\n",
    "\n",
    "print(\"Accuracy:\", accuracy)\n",
    "print(\"Confusion Matrix:\\n\", conf_matrix)\n",
    "print(\"Classification Report:\\n\", class_report)"
   ]
  },
  {
   "cell_type": "markdown",
   "id": "b7a06791",
   "metadata": {},
   "source": [
    "## 5. Feature engineering"
   ]
  },
  {
   "cell_type": "markdown",
   "id": "9dca6ee3",
   "metadata": {},
   "source": [
    "### 5.1. Using Extra Trees Classifier for shortlisting important features"
   ]
  },
  {
   "cell_type": "code",
   "execution_count": 17,
   "id": "dcb72142-2aae-41d8-aba8-fb7743471a27",
   "metadata": {},
   "outputs": [
    {
     "data": {
      "text/html": [
       "<style>#sk-container-id-1 {color: black;}#sk-container-id-1 pre{padding: 0;}#sk-container-id-1 div.sk-toggleable {background-color: white;}#sk-container-id-1 label.sk-toggleable__label {cursor: pointer;display: block;width: 100%;margin-bottom: 0;padding: 0.3em;box-sizing: border-box;text-align: center;}#sk-container-id-1 label.sk-toggleable__label-arrow:before {content: \"▸\";float: left;margin-right: 0.25em;color: #696969;}#sk-container-id-1 label.sk-toggleable__label-arrow:hover:before {color: black;}#sk-container-id-1 div.sk-estimator:hover label.sk-toggleable__label-arrow:before {color: black;}#sk-container-id-1 div.sk-toggleable__content {max-height: 0;max-width: 0;overflow: hidden;text-align: left;background-color: #f0f8ff;}#sk-container-id-1 div.sk-toggleable__content pre {margin: 0.2em;color: black;border-radius: 0.25em;background-color: #f0f8ff;}#sk-container-id-1 input.sk-toggleable__control:checked~div.sk-toggleable__content {max-height: 200px;max-width: 100%;overflow: auto;}#sk-container-id-1 input.sk-toggleable__control:checked~label.sk-toggleable__label-arrow:before {content: \"▾\";}#sk-container-id-1 div.sk-estimator input.sk-toggleable__control:checked~label.sk-toggleable__label {background-color: #d4ebff;}#sk-container-id-1 div.sk-label input.sk-toggleable__control:checked~label.sk-toggleable__label {background-color: #d4ebff;}#sk-container-id-1 input.sk-hidden--visually {border: 0;clip: rect(1px 1px 1px 1px);clip: rect(1px, 1px, 1px, 1px);height: 1px;margin: -1px;overflow: hidden;padding: 0;position: absolute;width: 1px;}#sk-container-id-1 div.sk-estimator {font-family: monospace;background-color: #f0f8ff;border: 1px dotted black;border-radius: 0.25em;box-sizing: border-box;margin-bottom: 0.5em;}#sk-container-id-1 div.sk-estimator:hover {background-color: #d4ebff;}#sk-container-id-1 div.sk-parallel-item::after {content: \"\";width: 100%;border-bottom: 1px solid gray;flex-grow: 1;}#sk-container-id-1 div.sk-label:hover label.sk-toggleable__label {background-color: #d4ebff;}#sk-container-id-1 div.sk-serial::before {content: \"\";position: absolute;border-left: 1px solid gray;box-sizing: border-box;top: 0;bottom: 0;left: 50%;z-index: 0;}#sk-container-id-1 div.sk-serial {display: flex;flex-direction: column;align-items: center;background-color: white;padding-right: 0.2em;padding-left: 0.2em;position: relative;}#sk-container-id-1 div.sk-item {position: relative;z-index: 1;}#sk-container-id-1 div.sk-parallel {display: flex;align-items: stretch;justify-content: center;background-color: white;position: relative;}#sk-container-id-1 div.sk-item::before, #sk-container-id-1 div.sk-parallel-item::before {content: \"\";position: absolute;border-left: 1px solid gray;box-sizing: border-box;top: 0;bottom: 0;left: 50%;z-index: -1;}#sk-container-id-1 div.sk-parallel-item {display: flex;flex-direction: column;z-index: 1;position: relative;background-color: white;}#sk-container-id-1 div.sk-parallel-item:first-child::after {align-self: flex-end;width: 50%;}#sk-container-id-1 div.sk-parallel-item:last-child::after {align-self: flex-start;width: 50%;}#sk-container-id-1 div.sk-parallel-item:only-child::after {width: 0;}#sk-container-id-1 div.sk-dashed-wrapped {border: 1px dashed gray;margin: 0 0.4em 0.5em 0.4em;box-sizing: border-box;padding-bottom: 0.4em;background-color: white;}#sk-container-id-1 div.sk-label label {font-family: monospace;font-weight: bold;display: inline-block;line-height: 1.2em;}#sk-container-id-1 div.sk-label-container {text-align: center;}#sk-container-id-1 div.sk-container {/* jupyter's `normalize.less` sets `[hidden] { display: none; }` but bootstrap.min.css set `[hidden] { display: none !important; }` so we also need the `!important` here to be able to override the default hidden behavior on the sphinx rendered scikit-learn.org. See: https://github.com/scikit-learn/scikit-learn/issues/21755 */display: inline-block !important;position: relative;}#sk-container-id-1 div.sk-text-repr-fallback {display: none;}</style><div id=\"sk-container-id-1\" class=\"sk-top-container\"><div class=\"sk-text-repr-fallback\"><pre>ExtraTreesClassifier(random_state=12)</pre><b>In a Jupyter environment, please rerun this cell to show the HTML representation or trust the notebook. <br />On GitHub, the HTML representation is unable to render, please try loading this page with nbviewer.org.</b></div><div class=\"sk-container\" hidden><div class=\"sk-item\"><div class=\"sk-estimator sk-toggleable\"><input class=\"sk-toggleable__control sk-hidden--visually\" id=\"sk-estimator-id-1\" type=\"checkbox\" checked><label for=\"sk-estimator-id-1\" class=\"sk-toggleable__label sk-toggleable__label-arrow\">ExtraTreesClassifier</label><div class=\"sk-toggleable__content\"><pre>ExtraTreesClassifier(random_state=12)</pre></div></div></div></div></div>"
      ],
      "text/plain": [
       "ExtraTreesClassifier(random_state=12)"
      ]
     },
     "execution_count": 17,
     "metadata": {},
     "output_type": "execute_result"
    }
   ],
   "source": [
    "model = ExtraTreesClassifier(random_state=12)\n",
    "model.fit(X,y)"
   ]
  },
  {
   "cell_type": "code",
   "execution_count": 18,
   "id": "925ec953-015a-4e4a-b15d-bf53cf3fc43e",
   "metadata": {},
   "outputs": [
    {
     "name": "stdout",
     "output_type": "stream",
     "text": [
      "[0.01898862 0.01282987 0.01291171 0.01397721 0.02080691 0.0168999\n",
      " 0.01276601 0.01239969 0.01769267 0.01468048 0.01399332 0.01340021\n",
      " 0.01403333 0.01190485 0.01243912 0.01142794 0.01170902 0.01066432\n",
      " 0.01197652 0.01116913 0.01120003 0.01214246 0.01108223 0.018467\n",
      " 0.01600756 0.01527202 0.01821493 0.         0.02319901 0.02876765\n",
      " 0.07667346 0.08271431 0.0203477  0.09885334 0.01861131 0.01785034\n",
      " 0.02422058 0.01435991 0.01195701 0.00375791 0.00392464 0.0014107\n",
      " 0.00128641 0.00052007 0.         0.00360317 0.00478043 0.0098668\n",
      " 0.01349961 0.01443965 0.01322792 0.01278947 0.01195558 0.01117872\n",
      " 0.01114092 0.0136354  0.01447293 0.01462931 0.01404789 0.01509856\n",
      " 0.01412225]\n"
     ]
    }
   ],
   "source": [
    "print(model.feature_importances_)"
   ]
  },
  {
   "cell_type": "code",
   "execution_count": 19,
   "id": "62e7a87c-6d61-4255-a032-29e82ac088c7",
   "metadata": {
    "scrolled": true
   },
   "outputs": [
    {
     "data": {
      "image/png": "[encoded data removed]",
      "text/plain": [
       "<Figure size 640x480 with 1 Axes>"
      ]
     },
     "metadata": {},
     "output_type": "display_data"
    }
   ],
   "source": [
    "#plot graph of feature importances for better visualization\n",
    "feat_importances = pd.Series(model.feature_importances_, index=X.columns)\n",
    "feat_importances.nlargest(15).plot(kind='barh')\n",
    "plt.show()"
   ]
  },
  {
   "cell_type": "markdown",
   "id": "d96f8198",
   "metadata": {},
   "source": [
    "### 5.2. Revealing features with highest importance"
   ]
  },
  {
   "cell_type": "code",
   "execution_count": 20,
   "id": "eb7a0d2d-8f43-4fda-a452-cc5fc39bb4ab",
   "metadata": {},
   "outputs": [],
   "source": [
    "X = df[['MACD','Volume','STD5','Day','DayofWeek','ROC','RSI','SO%K',\n",
    "       'ForceIndex1','William%R','SD20','S_Close(t-1)','ADX',\n",
    "        'ForceIndex20','Open']]"
   ]
  },
  {
   "cell_type": "code",
   "execution_count": 21,
   "id": "f59a9181-178e-418a-935c-3f6e0b554d1f",
   "metadata": {},
   "outputs": [
    {
     "name": "stdout",
     "output_type": "stream",
     "text": [
      "<class 'pandas.core.frame.DataFrame'>\n",
      "RangeIndex: 2473 entries, 0 to 2472\n",
      "Data columns (total 15 columns):\n",
      " #   Column        Non-Null Count  Dtype  \n",
      "---  ------        --------------  -----  \n",
      " 0   MACD          2473 non-null   float64\n",
      " 1   Volume        2473 non-null   int64  \n",
      " 2   STD5          2473 non-null   float64\n",
      " 3   Day           2473 non-null   int64  \n",
      " 4   DayofWeek     2473 non-null   int64  \n",
      " 5   ROC           2473 non-null   float64\n",
      " 6   RSI           2473 non-null   float64\n",
      " 7   SO%K          2473 non-null   float64\n",
      " 8   ForceIndex1   2473 non-null   float64\n",
      " 9   William%R     2473 non-null   float64\n",
      " 10  SD20          2473 non-null   float64\n",
      " 11  S_Close(t-1)  2473 non-null   float64\n",
      " 12  ADX           2473 non-null   float64\n",
      " 13  ForceIndex20  2473 non-null   float64\n",
      " 14  Open          2473 non-null   float64\n",
      "dtypes: float64(12), int64(3)\n",
      "memory usage: 289.9 KB\n"
     ]
    }
   ],
   "source": [
    "X.info()"
   ]
  },
  {
   "cell_type": "markdown",
   "id": "1f74be4d",
   "metadata": {},
   "source": [
    "## 6. Model selection"
   ]
  },
  {
   "cell_type": "markdown",
   "id": "38d06cb2",
   "metadata": {},
   "source": [
    "### 6.1. Scaling and splitting the selected features"
   ]
  },
  {
   "cell_type": "code",
   "execution_count": 22,
   "id": "0f43d46d",
   "metadata": {},
   "outputs": [],
   "source": [
    "X_train, X_test, y_train, y_test= train_test_split(X, y, test_size=0.2, random_state=12)"
   ]
  },
  {
   "cell_type": "markdown",
   "id": "1712947f",
   "metadata": {},
   "source": [
    "### 6.2. Logistic Regression for classification"
   ]
  },
  {
   "cell_type": "code",
   "execution_count": 23,
   "id": "c5543cb4",
   "metadata": {},
   "outputs": [
    {
     "data": {
      "text/html": [
       "<style>#sk-container-id-2 {color: black;}#sk-container-id-2 pre{padding: 0;}#sk-container-id-2 div.sk-toggleable {background-color: white;}#sk-container-id-2 label.sk-toggleable__label {cursor: pointer;display: block;width: 100%;margin-bottom: 0;padding: 0.3em;box-sizing: border-box;text-align: center;}#sk-container-id-2 label.sk-toggleable__label-arrow:before {content: \"▸\";float: left;margin-right: 0.25em;color: #696969;}#sk-container-id-2 label.sk-toggleable__label-arrow:hover:before {color: black;}#sk-container-id-2 div.sk-estimator:hover label.sk-toggleable__label-arrow:before {color: black;}#sk-container-id-2 div.sk-toggleable__content {max-height: 0;max-width: 0;overflow: hidden;text-align: left;background-color: #f0f8ff;}#sk-container-id-2 div.sk-toggleable__content pre {margin: 0.2em;color: black;border-radius: 0.25em;background-color: #f0f8ff;}#sk-container-id-2 input.sk-toggleable__control:checked~div.sk-toggleable__content {max-height: 200px;max-width: 100%;overflow: auto;}#sk-container-id-2 input.sk-toggleable__control:checked~label.sk-toggleable__label-arrow:before {content: \"▾\";}#sk-container-id-2 div.sk-estimator input.sk-toggleable__control:checked~label.sk-toggleable__label {background-color: #d4ebff;}#sk-container-id-2 div.sk-label input.sk-toggleable__control:checked~label.sk-toggleable__label {background-color: #d4ebff;}#sk-container-id-2 input.sk-hidden--visually {border: 0;clip: rect(1px 1px 1px 1px);clip: rect(1px, 1px, 1px, 1px);height: 1px;margin: -1px;overflow: hidden;padding: 0;position: absolute;width: 1px;}#sk-container-id-2 div.sk-estimator {font-family: monospace;background-color: #f0f8ff;border: 1px dotted black;border-radius: 0.25em;box-sizing: border-box;margin-bottom: 0.5em;}#sk-container-id-2 div.sk-estimator:hover {background-color: #d4ebff;}#sk-container-id-2 div.sk-parallel-item::after {content: \"\";width: 100%;border-bottom: 1px solid gray;flex-grow: 1;}#sk-container-id-2 div.sk-label:hover label.sk-toggleable__label {background-color: #d4ebff;}#sk-container-id-2 div.sk-serial::before {content: \"\";position: absolute;border-left: 1px solid gray;box-sizing: border-box;top: 0;bottom: 0;left: 50%;z-index: 0;}#sk-container-id-2 div.sk-serial {display: flex;flex-direction: column;align-items: center;background-color: white;padding-right: 0.2em;padding-left: 0.2em;position: relative;}#sk-container-id-2 div.sk-item {position: relative;z-index: 1;}#sk-container-id-2 div.sk-parallel {display: flex;align-items: stretch;justify-content: center;background-color: white;position: relative;}#sk-container-id-2 div.sk-item::before, #sk-container-id-2 div.sk-parallel-item::before {content: \"\";position: absolute;border-left: 1px solid gray;box-sizing: border-box;top: 0;bottom: 0;left: 50%;z-index: -1;}#sk-container-id-2 div.sk-parallel-item {display: flex;flex-direction: column;z-index: 1;position: relative;background-color: white;}#sk-container-id-2 div.sk-parallel-item:first-child::after {align-self: flex-end;width: 50%;}#sk-container-id-2 div.sk-parallel-item:last-child::after {align-self: flex-start;width: 50%;}#sk-container-id-2 div.sk-parallel-item:only-child::after {width: 0;}#sk-container-id-2 div.sk-dashed-wrapped {border: 1px dashed gray;margin: 0 0.4em 0.5em 0.4em;box-sizing: border-box;padding-bottom: 0.4em;background-color: white;}#sk-container-id-2 div.sk-label label {font-family: monospace;font-weight: bold;display: inline-block;line-height: 1.2em;}#sk-container-id-2 div.sk-label-container {text-align: center;}#sk-container-id-2 div.sk-container {/* jupyter's `normalize.less` sets `[hidden] { display: none; }` but bootstrap.min.css set `[hidden] { display: none !important; }` so we also need the `!important` here to be able to override the default hidden behavior on the sphinx rendered scikit-learn.org. See: https://github.com/scikit-learn/scikit-learn/issues/21755 */display: inline-block !important;position: relative;}#sk-container-id-2 div.sk-text-repr-fallback {display: none;}</style><div id=\"sk-container-id-2\" class=\"sk-top-container\"><div class=\"sk-text-repr-fallback\"><pre>LogisticRegression(max_iter=1000)</pre><b>In a Jupyter environment, please rerun this cell to show the HTML representation or trust the notebook. <br />On GitHub, the HTML representation is unable to render, please try loading this page with nbviewer.org.</b></div><div class=\"sk-container\" hidden><div class=\"sk-item\"><div class=\"sk-estimator sk-toggleable\"><input class=\"sk-toggleable__control sk-hidden--visually\" id=\"sk-estimator-id-2\" type=\"checkbox\" checked><label for=\"sk-estimator-id-2\" class=\"sk-toggleable__label sk-toggleable__label-arrow\">LogisticRegression</label><div class=\"sk-toggleable__content\"><pre>LogisticRegression(max_iter=1000)</pre></div></div></div></div></div>"
      ],
      "text/plain": [
       "LogisticRegression(max_iter=1000)"
      ]
     },
     "execution_count": 23,
     "metadata": {},
     "output_type": "execute_result"
    }
   ],
   "source": [
    "logmodel = LogisticRegression(max_iter=1000) ##max no. of iterations reached ,so 1000 used\n",
    "logmodel.fit(X_train,y_train)"
   ]
  },
  {
   "cell_type": "code",
   "execution_count": 24,
   "id": "f7a43007-3935-47c1-b7d2-0a2a0f1964a8",
   "metadata": {},
   "outputs": [],
   "source": [
    "predictions = logmodel.predict(X_test)"
   ]
  },
  {
   "cell_type": "code",
   "execution_count": 25,
   "id": "f0c869a2-026a-491d-9ddf-ee5c8bf6b43d",
   "metadata": {
    "scrolled": true
   },
   "outputs": [
    {
     "name": "stdout",
     "output_type": "stream",
     "text": [
      "              precision    recall  f1-score   support\n",
      "\n",
      "           1       0.85      0.81      0.83       253\n",
      "           2       0.81      0.85      0.83       242\n",
      "\n",
      "    accuracy                           0.83       495\n",
      "   macro avg       0.83      0.83      0.83       495\n",
      "weighted avg       0.83      0.83      0.83       495\n",
      "\n"
     ]
    }
   ],
   "source": [
    "print(classification_report(y_test,predictions, zero_division=1))"
   ]
  },
  {
   "cell_type": "markdown",
   "id": "3cfbc176",
   "metadata": {},
   "source": [
    "## 7. Scaling and splitting the dataset"
   ]
  },
  {
   "cell_type": "code",
   "execution_count": 26,
   "id": "e9639e83",
   "metadata": {
    "scrolled": true
   },
   "outputs": [],
   "source": [
    "X_train, X_test, y_train, y_test = train_test_split(X, y, test_size=0.2, random_state=42)\n",
    "\n",
    "scaler = StandardScaler()\n",
    "X_train_scaled = scaler.fit_transform(X_train)\n",
    "X_test_scaled = scaler.transform(X_test)\n",
    "y_train = y_train.values.reshape(-1,1)\n",
    "y_test = y_test.values.reshape(-1,1)"
   ]
  },
  {
   "cell_type": "markdown",
   "id": "33fd199c",
   "metadata": {},
   "source": [
    "## 8. Using Sigmoid activation function "
   ]
  },
  {
   "cell_type": "code",
   "execution_count": 27,
   "id": "ec1723de-6989-4596-9fd8-0b8fcf6e33a6",
   "metadata": {},
   "outputs": [],
   "source": [
    "# Define two functions - the sigmoid activation function and its derivative\n",
    "def sigmoid(z):\n",
    "    return 1 / (1 + np.exp(-z))\n",
    "\n",
    "def sigmoid_derivative(z):\n",
    "    return sigmoid(z) * (1 - sigmoid(z))"
   ]
  },
  {
   "cell_type": "code",
   "execution_count": 28,
   "id": "9f127f93",
   "metadata": {},
   "outputs": [],
   "source": [
    "input_size = X_train_scaled.shape[1]\n",
    "output_size = 1\n",
    "learning_rate = 0.01\n",
    "\n",
    "weights = np.random.randn(input_size, output_size)\n",
    "bias = np.zeros((1, output_size))"
   ]
  },
  {
   "cell_type": "code",
   "execution_count": 29,
   "id": "42016320",
   "metadata": {
    "scrolled": true
   },
   "outputs": [
    {
     "name": "stdout",
     "output_type": "stream",
     "text": [
      "Iteration 0, Loss: 1.4713799077100609\n",
      "Iteration 100, Loss: 0.2309987835459459\n",
      "Iteration 200, Loss: -0.5637085356426342\n",
      "Iteration 300, Loss: -1.1236187811934528\n",
      "Iteration 400, Loss: -1.568363150618599\n",
      "Iteration 500, Loss: -1.9544015268409094\n",
      "Iteration 600, Loss: -2.309558978940539\n",
      "Iteration 700, Loss: -2.647893724408783\n",
      "Iteration 800, Loss: -2.9760227868220372\n",
      "Iteration 900, Loss: -3.297805221678526\n"
     ]
    }
   ],
   "source": [
    "num_iterations = 1000\n",
    "\n",
    "for i in range(num_iterations):\n",
    "    # Forward pass\n",
    "    z = np.dot(X_train_scaled, weights) + bias\n",
    "    a = sigmoid(z)\n",
    "\n",
    "    # Compute loss (log loss)\n",
    "    epsilon = 1e-8\n",
    "    loss = -np.mean(y_train * np.log(a + epsilon) + (1 - y_train) * np.log(1 - a + epsilon))\n",
    "\n",
    "    # Backpropagation\n",
    "    dz = a - y_train.reshape(-1, 1)\n",
    "    dw = np.dot(X_train_scaled.T, dz) / len(X_train_scaled)\n",
    "    db = np.sum(dz) / len(X_train_scaled)\n",
    "\n",
    "    # Update weights and bias\n",
    "    weights -= learning_rate * dw\n",
    "    bias -= learning_rate * db\n",
    "\n",
    "    # Print the loss for every 100 iterations\n",
    "    if i % 100 == 0:\n",
    "        print(f\"Iteration {i}, Loss: {loss}\")"
   ]
  },
  {
   "cell_type": "code",
   "execution_count": 30,
   "id": "89b87b5a",
   "metadata": {
    "scrolled": true
   },
   "outputs": [
    {
     "name": "stdout",
     "output_type": "stream",
     "text": [
      "Accuracy: 0.46464646464646464\n",
      "Log Loss: 16.74755612019585\n"
     ]
    }
   ],
   "source": [
    "labels = [1, 2]\n",
    "test_predictions = sigmoid(np.dot(X_test_scaled, weights) + bias)\n",
    "test_predictions = (test_predictions > 0.5).astype(int)\n",
    "\n",
    "# Calculate accuracy and log loss on the test data\n",
    "accuracy = accuracy_score(y_test, test_predictions)\n",
    "logloss = log_loss(y_test, test_predictions)\n",
    "\n",
    "print(f\"Accuracy: {accuracy}\")\n",
    "print(f\"Log Loss: {logloss}\")"
   ]
  },
  {
   "cell_type": "markdown",
   "id": "828e605e",
   "metadata": {},
   "source": [
    "## 9. Hyperparameter tuning"
   ]
  },
  {
   "cell_type": "markdown",
   "id": "989cad21",
   "metadata": {},
   "source": [
    "### 9.1. Hyperparameter tuning using Grid Search CV and Random Forest Classifier"
   ]
  },
  {
   "cell_type": "code",
   "execution_count": 31,
   "id": "97ffb11c",
   "metadata": {
    "scrolled": true
   },
   "outputs": [
    {
     "name": "stdout",
     "output_type": "stream",
     "text": [
      "Best Hyperparameters: {'max_depth': 20, 'min_samples_split': 5, 'n_estimators': 50}\n",
      "Accuracy: 0.8424242424242424\n"
     ]
    }
   ],
   "source": [
    "y_train = y_train.ravel()\n",
    "y_test = y_test.ravel()\n",
    "\n",
    "# Define the parameter grid to search\n",
    "param_grid = {\n",
    "    'n_estimators': [50],\n",
    "    'max_depth': [20],\n",
    "    'min_samples_split': [5]\n",
    "}\n",
    "\n",
    "# Create a random forest classifier\n",
    "rf_classifier = RandomForestClassifier()\n",
    "\n",
    "# Perform Grid Search with 5-fold cross-validation\n",
    "grid_search = GridSearchCV(estimator=rf_classifier, param_grid=param_grid, cv=5)\n",
    "grid_search.fit(X_train_scaled, y_train)\n",
    "\n",
    "# Print the best hyperparameters found by Grid Search\n",
    "print(\"Best Hyperparameters:\", grid_search.best_params_)\n",
    "\n",
    "# Evaluate the model with the best hyperparameters on the test data\n",
    "best_rf_classifier = grid_search.best_estimator_\n",
    "test_predictions = best_rf_classifier.predict(X_test_scaled)\n",
    "accuracy = accuracy_score(y_test, test_predictions)\n",
    "print(f\"Accuracy: {accuracy}\")"
   ]
  },
  {
   "cell_type": "markdown",
   "id": "435c245a",
   "metadata": {},
   "source": [
    "### From hyperparameter tuning using Grid Search CV and Random Forest Classifier we get slighlty better accuracy than the accuracy without tuning. "
   ]
  },
  {
   "cell_type": "markdown",
   "id": "4a597726",
   "metadata": {},
   "source": [
    "### 9.2. Hyperparameter tuning using Grid search CV and Logistic Regression"
   ]
  },
  {
   "cell_type": "code",
   "execution_count": 32,
   "id": "b95ded20",
   "metadata": {},
   "outputs": [],
   "source": [
    "y_train=y_train.ravel()"
   ]
  },
  {
   "cell_type": "code",
   "execution_count": 33,
   "id": "e6035b32",
   "metadata": {},
   "outputs": [],
   "source": [
    "logmodel = LogisticRegression(penalty= None, max_iter=1000)"
   ]
  },
  {
   "cell_type": "code",
   "execution_count": 34,
   "id": "a365548f",
   "metadata": {},
   "outputs": [],
   "source": [
    "from sklearn.model_selection import GridSearchCV\n",
    "\n",
    "param_grid = {\n",
    "    'C': [0.01, 0.1, 1, 10, 100],\n",
    "    'penalty': ['l2'],\n",
    "    'solver': ['liblinear', 'lbfgs'],\n",
    "    'class_weight': [None, 'balanced']\n",
    "}"
   ]
  },
  {
   "cell_type": "code",
   "execution_count": 35,
   "id": "de5755be",
   "metadata": {},
   "outputs": [
    {
     "name": "stdout",
     "output_type": "stream",
     "text": [
      "Best hyperparameters: {'C': 0.01, 'class_weight': 'balanced', 'penalty': 'l2', 'solver': 'liblinear'}\n",
      "Accuracy: 0.8222222222222222\n"
     ]
    }
   ],
   "source": [
    "grid_search = GridSearchCV(logmodel, param_grid, cv=5, scoring='accuracy',error_score='raise', n_jobs=-1)\n",
    "grid_search.fit(X_train, y_train)\n",
    "\n",
    "best_params = grid_search.best_params_\n",
    "print(f'Best hyperparameters:',best_params)\n",
    "best_model = grid_search.best_estimator_\n",
    "accuracy = best_model.score(X_test, y_test)\n",
    "print(\"Accuracy:\", accuracy)"
   ]
  },
  {
   "cell_type": "markdown",
   "id": "7357699c",
   "metadata": {},
   "source": [
    "### From hyperparameter tuning using Grid Search CV and Logistic Regression we get slighlty less accuracy than the accuracy without tuning. So, this model is not suitable."
   ]
  },
  {
   "cell_type": "code",
   "execution_count": null,
   "id": "eb380f01",
   "metadata": {},
   "outputs": [],
   "source": []
  }
 ],
 "metadata": {
  "kernelspec": {
   "display_name": "Python 3 (ipykernel)",
   "language": "python",
   "name": "python3"
  },
  "language_info": {
   "codemirror_mode": {
    "name": "ipython",
    "version": 3
   },
   "file_extension": ".py",
   "mimetype": "text/x-python",
   "name": "python",
   "nbconvert_exporter": "python",
   "pygments_lexer": "ipython3",
   "version": "3.11.5"
  }
 },
 "nbformat": 4,
 "nbformat_minor": 5
}
