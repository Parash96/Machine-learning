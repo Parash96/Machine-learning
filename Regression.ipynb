{
 "cells": [
  {
   "cell_type": "markdown",
   "id": "ecb56b97",
   "metadata": {},
   "source": [
    "# Regression approach\n"
   ]
  },
  {
   "cell_type": "code",
   "execution_count": 1,
   "id": "fac8c374-3a7c-477b-87ae-e7833349cb75",
   "metadata": {},
   "outputs": [],
   "source": [
    "import pandas as pd\n",
    "import numpy as np\n",
    "import matplotlib.pyplot as plt\n",
    "import seaborn as sns\n",
    "import numpy as np\n",
    "from scipy.stats import zscore\n",
    "from sklearn.preprocessing import StandardScaler\n",
    "from sklearn.model_selection import train_test_split\n",
    "from sklearn.linear_model import LinearRegression  \n",
    "from sklearn.metrics import mean_squared_error, r2_score\n",
    "from sklearn.ensemble import ExtraTreesRegressor\n",
    "from sklearn.model_selection import GridSearchCV\n",
    "from sklearn.svm import SVR\n",
    "from sklearn.ensemble import RandomForestRegressor\n",
    "from sklearn.tree import DecisionTreeRegressor"
   ]
  },
  {
   "cell_type": "markdown",
   "id": "043209dc",
   "metadata": {},
   "source": [
    "## Data preprocessing for the given dataset"
   ]
  },
  {
   "cell_type": "markdown",
   "id": "1c9aefac",
   "metadata": {},
   "source": [
    "## 1. Data cleaning"
   ]
  },
  {
   "cell_type": "markdown",
   "id": "5b81765a",
   "metadata": {},
   "source": [
    "### 1.1. Loading data and providing information"
   ]
  },
  {
   "cell_type": "code",
   "execution_count": 2,
   "id": "38617885-f984-4ff9-819e-0400abc6b1a2",
   "metadata": {},
   "outputs": [],
   "source": [
    "df_amazon = pd.read_csv('AMZN.csv')"
   ]
  },
  {
   "cell_type": "code",
   "execution_count": 3,
   "id": "85b626c8",
   "metadata": {
    "scrolled": true
   },
   "outputs": [
    {
     "name": "stdout",
     "output_type": "stream",
     "text": [
      "<class 'pandas.core.frame.DataFrame'>\n",
      "RangeIndex: 2473 entries, 0 to 2472\n",
      "Data columns (total 64 columns):\n",
      " #   Column            Non-Null Count  Dtype  \n",
      "---  ------            --------------  -----  \n",
      " 0   Date              2473 non-null   object \n",
      " 1   Open              2473 non-null   float64\n",
      " 2   High              2473 non-null   float64\n",
      " 3   Low               2473 non-null   float64\n",
      " 4   Close(t)          2473 non-null   float64\n",
      " 5   Volume            2473 non-null   int64  \n",
      " 6   SD20              2473 non-null   float64\n",
      " 7   Upper_Band        2473 non-null   float64\n",
      " 8   Lower_Band        2473 non-null   float64\n",
      " 9   S_Close(t-1)      2473 non-null   float64\n",
      " 10  S_Close(t-2)      2473 non-null   float64\n",
      " 11  S_Close(t-3)      2473 non-null   float64\n",
      " 12  S_Close(t-5)      2473 non-null   float64\n",
      " 13  S_Open(t-1)       2473 non-null   float64\n",
      " 14  MA5               2473 non-null   float64\n",
      " 15  MA10              2473 non-null   float64\n",
      " 16  MA20              2473 non-null   float64\n",
      " 17  MA50              2473 non-null   float64\n",
      " 18  MA200             2473 non-null   float64\n",
      " 19  EMA10             2473 non-null   float64\n",
      " 20  EMA20             2473 non-null   float64\n",
      " 21  EMA50             2473 non-null   float64\n",
      " 22  EMA100            2473 non-null   float64\n",
      " 23  EMA200            2473 non-null   float64\n",
      " 24  MACD              2473 non-null   float64\n",
      " 25  MACD_EMA          2473 non-null   float64\n",
      " 26  ATR               2473 non-null   float64\n",
      " 27  ADX               2473 non-null   float64\n",
      " 28  CCI               2473 non-null   float64\n",
      " 29  ROC               2473 non-null   float64\n",
      " 30  RSI               2473 non-null   float64\n",
      " 31  William%R         2473 non-null   float64\n",
      " 32  SO%K              2473 non-null   float64\n",
      " 33  STD5              2473 non-null   float64\n",
      " 34  ForceIndex1       2473 non-null   float64\n",
      " 35  ForceIndex20      2473 non-null   float64\n",
      " 36  Date_col          2473 non-null   object \n",
      " 37  Day               2473 non-null   int64  \n",
      " 38  DayofWeek         2473 non-null   int64  \n",
      " 39  DayofYear         2473 non-null   int64  \n",
      " 40  Week              2473 non-null   int64  \n",
      " 41  Is_month_end      2473 non-null   int64  \n",
      " 42  Is_month_start    2473 non-null   int64  \n",
      " 43  Is_quarter_end    2473 non-null   int64  \n",
      " 44  Is_quarter_start  2473 non-null   int64  \n",
      " 45  Is_year_end       2473 non-null   int64  \n",
      " 46  Is_year_start     2473 non-null   int64  \n",
      " 47  Is_leap_year      2473 non-null   int64  \n",
      " 48  Year              2473 non-null   int64  \n",
      " 49  Month             2473 non-null   int64  \n",
      " 50  QQQ_Close         2473 non-null   float64\n",
      " 51  QQQ(t-1)          2473 non-null   float64\n",
      " 52  QQQ(t-2)          2473 non-null   float64\n",
      " 53  QQQ(t-5)          2473 non-null   float64\n",
      " 54  QQQ_MA10          2473 non-null   float64\n",
      " 55  QQQ_MA20          2473 non-null   float64\n",
      " 56  QQQ_MA50          2473 non-null   float64\n",
      " 57  SnP_Close         2473 non-null   float64\n",
      " 58  SnP(t-1))         2473 non-null   float64\n",
      " 59  SnP(t-5)          2473 non-null   float64\n",
      " 60  DJIA_Close        2473 non-null   float64\n",
      " 61  DJIA(t-1))        2473 non-null   float64\n",
      " 62  DJIA(t-5)         2473 non-null   float64\n",
      " 63  Close_forcast     2473 non-null   float64\n",
      "dtypes: float64(48), int64(14), object(2)\n",
      "memory usage: 1.2+ MB\n"
     ]
    }
   ],
   "source": [
    "df_amazon.info()"
   ]
  },
  {
   "cell_type": "code",
   "execution_count": 4,
   "id": "843c01d6-b8fd-4a75-a0dd-1bb0fc02821f",
   "metadata": {},
   "outputs": [
    {
     "data": {
      "text/html": [
       "<div>\n",
       "<style scoped>\n",
       "    .dataframe tbody tr th:only-of-type {\n",
       "        vertical-align: middle;\n",
       "    }\n",
       "\n",
       "    .dataframe tbody tr th {\n",
       "        vertical-align: top;\n",
       "    }\n",
       "\n",
       "    .dataframe thead th {\n",
       "        text-align: right;\n",
       "    }\n",
       "</style>\n",
       "<table border=\"1\" class=\"dataframe\">\n",
       "  <thead>\n",
       "    <tr style=\"text-align: right;\">\n",
       "      <th></th>\n",
       "      <th>Open</th>\n",
       "      <th>High</th>\n",
       "      <th>Low</th>\n",
       "      <th>Close(t)</th>\n",
       "      <th>Volume</th>\n",
       "      <th>SD20</th>\n",
       "      <th>Upper_Band</th>\n",
       "      <th>Lower_Band</th>\n",
       "      <th>S_Close(t-1)</th>\n",
       "      <th>S_Close(t-2)</th>\n",
       "      <th>...</th>\n",
       "      <th>QQQ_MA10</th>\n",
       "      <th>QQQ_MA20</th>\n",
       "      <th>QQQ_MA50</th>\n",
       "      <th>SnP_Close</th>\n",
       "      <th>SnP(t-1))</th>\n",
       "      <th>SnP(t-5)</th>\n",
       "      <th>DJIA_Close</th>\n",
       "      <th>DJIA(t-1))</th>\n",
       "      <th>DJIA(t-5)</th>\n",
       "      <th>Close_forcast</th>\n",
       "    </tr>\n",
       "  </thead>\n",
       "  <tbody>\n",
       "    <tr>\n",
       "      <th>count</th>\n",
       "      <td>2473.000000</td>\n",
       "      <td>2473.000000</td>\n",
       "      <td>2473.000000</td>\n",
       "      <td>2473.000000</td>\n",
       "      <td>2.473000e+03</td>\n",
       "      <td>2473.000000</td>\n",
       "      <td>2473.000000</td>\n",
       "      <td>2473.000000</td>\n",
       "      <td>2473.000000</td>\n",
       "      <td>2473.000000</td>\n",
       "      <td>...</td>\n",
       "      <td>2473.000000</td>\n",
       "      <td>2473.000000</td>\n",
       "      <td>2473.000000</td>\n",
       "      <td>2473.000000</td>\n",
       "      <td>2473.000000</td>\n",
       "      <td>2473.000000</td>\n",
       "      <td>2473.000000</td>\n",
       "      <td>2473.000000</td>\n",
       "      <td>2473.000000</td>\n",
       "      <td>2473.000000</td>\n",
       "    </tr>\n",
       "    <tr>\n",
       "      <th>mean</th>\n",
       "      <td>826.164590</td>\n",
       "      <td>834.746130</td>\n",
       "      <td>816.663631</td>\n",
       "      <td>826.197849</td>\n",
       "      <td>4.309489e+06</td>\n",
       "      <td>25.257533</td>\n",
       "      <td>865.297646</td>\n",
       "      <td>764.267514</td>\n",
       "      <td>824.986211</td>\n",
       "      <td>823.770396</td>\n",
       "      <td>...</td>\n",
       "      <td>113.401112</td>\n",
       "      <td>112.954962</td>\n",
       "      <td>111.653683</td>\n",
       "      <td>2098.568795</td>\n",
       "      <td>2097.680303</td>\n",
       "      <td>2094.146624</td>\n",
       "      <td>18694.046041</td>\n",
       "      <td>18687.238949</td>\n",
       "      <td>18660.280890</td>\n",
       "      <td>827.404666</td>\n",
       "    </tr>\n",
       "    <tr>\n",
       "      <th>std</th>\n",
       "      <td>698.038503</td>\n",
       "      <td>705.987111</td>\n",
       "      <td>689.294489</td>\n",
       "      <td>698.082871</td>\n",
       "      <td>2.417880e+06</td>\n",
       "      <td>29.641950</td>\n",
       "      <td>730.285700</td>\n",
       "      <td>638.652752</td>\n",
       "      <td>696.627602</td>\n",
       "      <td>695.169032</td>\n",
       "      <td>...</td>\n",
       "      <td>52.643302</td>\n",
       "      <td>52.248810</td>\n",
       "      <td>51.174082</td>\n",
       "      <td>596.210304</td>\n",
       "      <td>595.946837</td>\n",
       "      <td>594.947984</td>\n",
       "      <td>5129.355628</td>\n",
       "      <td>5128.307884</td>\n",
       "      <td>5124.540611</td>\n",
       "      <td>699.515103</td>\n",
       "    </tr>\n",
       "    <tr>\n",
       "      <th>min</th>\n",
       "      <td>157.840000</td>\n",
       "      <td>159.870000</td>\n",
       "      <td>156.570000</td>\n",
       "      <td>157.780000</td>\n",
       "      <td>8.813000e+05</td>\n",
       "      <td>2.454017</td>\n",
       "      <td>164.124849</td>\n",
       "      <td>148.681227</td>\n",
       "      <td>157.780000</td>\n",
       "      <td>155.530000</td>\n",
       "      <td>...</td>\n",
       "      <td>45.335000</td>\n",
       "      <td>44.828000</td>\n",
       "      <td>42.630200</td>\n",
       "      <td>1099.230000</td>\n",
       "      <td>1099.230000</td>\n",
       "      <td>1099.230000</td>\n",
       "      <td>10655.300000</td>\n",
       "      <td>10655.300000</td>\n",
       "      <td>10655.300000</td>\n",
       "      <td>157.780000</td>\n",
       "    </tr>\n",
       "    <tr>\n",
       "      <th>25%</th>\n",
       "      <td>266.810000</td>\n",
       "      <td>269.480000</td>\n",
       "      <td>263.850000</td>\n",
       "      <td>266.490000</td>\n",
       "      <td>2.755800e+06</td>\n",
       "      <td>6.951115</td>\n",
       "      <td>277.869989</td>\n",
       "      <td>253.212633</td>\n",
       "      <td>266.410000</td>\n",
       "      <td>266.380000</td>\n",
       "      <td>...</td>\n",
       "      <td>63.835000</td>\n",
       "      <td>63.633500</td>\n",
       "      <td>62.854000</td>\n",
       "      <td>1562.170000</td>\n",
       "      <td>1560.700000</td>\n",
       "      <td>1556.220000</td>\n",
       "      <td>14567.170000</td>\n",
       "      <td>14565.250000</td>\n",
       "      <td>14539.140000</td>\n",
       "      <td>266.560000</td>\n",
       "    </tr>\n",
       "    <tr>\n",
       "      <th>50%</th>\n",
       "      <td>528.520000</td>\n",
       "      <td>534.560000</td>\n",
       "      <td>521.400000</td>\n",
       "      <td>529.420000</td>\n",
       "      <td>3.686200e+06</td>\n",
       "      <td>13.908356</td>\n",
       "      <td>558.160917</td>\n",
       "      <td>472.483684</td>\n",
       "      <td>529.000000</td>\n",
       "      <td>527.460000</td>\n",
       "      <td>...</td>\n",
       "      <td>102.697000</td>\n",
       "      <td>102.748500</td>\n",
       "      <td>102.633400</td>\n",
       "      <td>2067.030000</td>\n",
       "      <td>2066.960000</td>\n",
       "      <td>2066.130000</td>\n",
       "      <td>17716.050000</td>\n",
       "      <td>17712.660000</td>\n",
       "      <td>17705.910000</td>\n",
       "      <td>529.440000</td>\n",
       "    </tr>\n",
       "    <tr>\n",
       "      <th>75%</th>\n",
       "      <td>1445.000000</td>\n",
       "      <td>1459.780000</td>\n",
       "      <td>1415.020000</td>\n",
       "      <td>1442.840000</td>\n",
       "      <td>5.070300e+06</td>\n",
       "      <td>31.115370</td>\n",
       "      <td>1552.733137</td>\n",
       "      <td>1334.556935</td>\n",
       "      <td>1441.500000</td>\n",
       "      <td>1437.820000</td>\n",
       "      <td>...</td>\n",
       "      <td>157.845000</td>\n",
       "      <td>157.894500</td>\n",
       "      <td>158.643600</td>\n",
       "      <td>2639.440000</td>\n",
       "      <td>2639.400000</td>\n",
       "      <td>2636.780000</td>\n",
       "      <td>23924.980000</td>\n",
       "      <td>23909.840000</td>\n",
       "      <td>23860.460000</td>\n",
       "      <td>1447.340000</td>\n",
       "    </tr>\n",
       "    <tr>\n",
       "      <th>max</th>\n",
       "      <td>3251.060000</td>\n",
       "      <td>3344.290000</td>\n",
       "      <td>3165.430000</td>\n",
       "      <td>3225.000000</td>\n",
       "      <td>2.413420e+07</td>\n",
       "      <td>205.254540</td>\n",
       "      <td>3321.751870</td>\n",
       "      <td>2948.254283</td>\n",
       "      <td>3225.000000</td>\n",
       "      <td>3225.000000</td>\n",
       "      <td>...</td>\n",
       "      <td>270.255000</td>\n",
       "      <td>265.454000</td>\n",
       "      <td>255.044600</td>\n",
       "      <td>3386.150000</td>\n",
       "      <td>3386.150000</td>\n",
       "      <td>3386.150000</td>\n",
       "      <td>29551.420000</td>\n",
       "      <td>29551.420000</td>\n",
       "      <td>29551.420000</td>\n",
       "      <td>3225.000000</td>\n",
       "    </tr>\n",
       "  </tbody>\n",
       "</table>\n",
       "<p>8 rows × 62 columns</p>\n",
       "</div>"
      ],
      "text/plain": [
       "              Open         High          Low     Close(t)        Volume  \\\n",
       "count  2473.000000  2473.000000  2473.000000  2473.000000  2.473000e+03   \n",
       "mean    826.164590   834.746130   816.663631   826.197849  4.309489e+06   \n",
       "std     698.038503   705.987111   689.294489   698.082871  2.417880e+06   \n",
       "min     157.840000   159.870000   156.570000   157.780000  8.813000e+05   \n",
       "25%     266.810000   269.480000   263.850000   266.490000  2.755800e+06   \n",
       "50%     528.520000   534.560000   521.400000   529.420000  3.686200e+06   \n",
       "75%    1445.000000  1459.780000  1415.020000  1442.840000  5.070300e+06   \n",
       "max    3251.060000  3344.290000  3165.430000  3225.000000  2.413420e+07   \n",
       "\n",
       "              SD20   Upper_Band   Lower_Band  S_Close(t-1)  S_Close(t-2)  ...  \\\n",
       "count  2473.000000  2473.000000  2473.000000   2473.000000   2473.000000  ...   \n",
       "mean     25.257533   865.297646   764.267514    824.986211    823.770396  ...   \n",
       "std      29.641950   730.285700   638.652752    696.627602    695.169032  ...   \n",
       "min       2.454017   164.124849   148.681227    157.780000    155.530000  ...   \n",
       "25%       6.951115   277.869989   253.212633    266.410000    266.380000  ...   \n",
       "50%      13.908356   558.160917   472.483684    529.000000    527.460000  ...   \n",
       "75%      31.115370  1552.733137  1334.556935   1441.500000   1437.820000  ...   \n",
       "max     205.254540  3321.751870  2948.254283   3225.000000   3225.000000  ...   \n",
       "\n",
       "          QQQ_MA10     QQQ_MA20     QQQ_MA50    SnP_Close    SnP(t-1))  \\\n",
       "count  2473.000000  2473.000000  2473.000000  2473.000000  2473.000000   \n",
       "mean    113.401112   112.954962   111.653683  2098.568795  2097.680303   \n",
       "std      52.643302    52.248810    51.174082   596.210304   595.946837   \n",
       "min      45.335000    44.828000    42.630200  1099.230000  1099.230000   \n",
       "25%      63.835000    63.633500    62.854000  1562.170000  1560.700000   \n",
       "50%     102.697000   102.748500   102.633400  2067.030000  2066.960000   \n",
       "75%     157.845000   157.894500   158.643600  2639.440000  2639.400000   \n",
       "max     270.255000   265.454000   255.044600  3386.150000  3386.150000   \n",
       "\n",
       "          SnP(t-5)    DJIA_Close    DJIA(t-1))     DJIA(t-5)  Close_forcast  \n",
       "count  2473.000000   2473.000000   2473.000000   2473.000000    2473.000000  \n",
       "mean   2094.146624  18694.046041  18687.238949  18660.280890     827.404666  \n",
       "std     594.947984   5129.355628   5128.307884   5124.540611     699.515103  \n",
       "min    1099.230000  10655.300000  10655.300000  10655.300000     157.780000  \n",
       "25%    1556.220000  14567.170000  14565.250000  14539.140000     266.560000  \n",
       "50%    2066.130000  17716.050000  17712.660000  17705.910000     529.440000  \n",
       "75%    2636.780000  23924.980000  23909.840000  23860.460000    1447.340000  \n",
       "max    3386.150000  29551.420000  29551.420000  29551.420000    3225.000000  \n",
       "\n",
       "[8 rows x 62 columns]"
      ]
     },
     "execution_count": 4,
     "metadata": {},
     "output_type": "execute_result"
    }
   ],
   "source": [
    "df_amazon.describe()"
   ]
  },
  {
   "cell_type": "code",
   "execution_count": 5,
   "id": "5abcc37d-ebbc-41c0-bb61-2745c2bf489e",
   "metadata": {
    "scrolled": false
   },
   "outputs": [
    {
     "data": {
      "text/plain": [
       "Index(['Date', 'Open', 'High', 'Low', 'Close(t)', 'Volume', 'SD20',\n",
       "       'Upper_Band', 'Lower_Band', 'S_Close(t-1)', 'S_Close(t-2)',\n",
       "       'S_Close(t-3)', 'S_Close(t-5)', 'S_Open(t-1)', 'MA5', 'MA10', 'MA20',\n",
       "       'MA50', 'MA200', 'EMA10', 'EMA20', 'EMA50', 'EMA100', 'EMA200', 'MACD',\n",
       "       'MACD_EMA', 'ATR', 'ADX', 'CCI', 'ROC', 'RSI', 'William%R', 'SO%K',\n",
       "       'STD5', 'ForceIndex1', 'ForceIndex20', 'Date_col', 'Day', 'DayofWeek',\n",
       "       'DayofYear', 'Week', 'Is_month_end', 'Is_month_start', 'Is_quarter_end',\n",
       "       'Is_quarter_start', 'Is_year_end', 'Is_year_start', 'Is_leap_year',\n",
       "       'Year', 'Month', 'QQQ_Close', 'QQQ(t-1)', 'QQQ(t-2)', 'QQQ(t-5)',\n",
       "       'QQQ_MA10', 'QQQ_MA20', 'QQQ_MA50', 'SnP_Close', 'SnP(t-1))',\n",
       "       'SnP(t-5)', 'DJIA_Close', 'DJIA(t-1))', 'DJIA(t-5)', 'Close_forcast'],\n",
       "      dtype='object')"
      ]
     },
     "execution_count": 5,
     "metadata": {},
     "output_type": "execute_result"
    }
   ],
   "source": [
    "df_amazon.describe()"
   ]
  },
  {
   "cell_type": "code",
   "execution_count": 6,
   "id": "170fdac6",
   "metadata": {},
   "outputs": [
    {
     "data": {
      "text/plain": [
       "(2473, 64)"
      ]
     },
     "execution_count": 6,
     "metadata": {},
     "output_type": "execute_result"
    }
   ],
   "source": [
    "df_amazon.shape"
   ]
  },
  {
   "cell_type": "markdown",
   "id": "e4658d98",
   "metadata": {},
   "source": [
    "### 1.2. Handling null values"
   ]
  },
  {
   "cell_type": "code",
   "execution_count": 7,
   "id": "67d6677f",
   "metadata": {},
   "outputs": [
    {
     "data": {
      "text/plain": [
       "Date             0\n",
       "Open             0\n",
       "High             0\n",
       "Low              0\n",
       "Close(t)         0\n",
       "                ..\n",
       "SnP(t-5)         0\n",
       "DJIA_Close       0\n",
       "DJIA(t-1))       0\n",
       "DJIA(t-5)        0\n",
       "Close_forcast    0\n",
       "Length: 64, dtype: int64"
      ]
     },
     "execution_count": 7,
     "metadata": {},
     "output_type": "execute_result"
    }
   ],
   "source": [
    "df_amazon.isnull().sum()"
   ]
  },
  {
   "cell_type": "code",
   "execution_count": 8,
   "id": "18893613",
   "metadata": {
    "scrolled": true
   },
   "outputs": [
    {
     "name": "stdout",
     "output_type": "stream",
     "text": [
      "There is no null values.\n"
     ]
    }
   ],
   "source": [
    "df_amazon.isnull().any().any()\n",
    "print('There is no null values.')"
   ]
  },
  {
   "cell_type": "markdown",
   "id": "9668dd5f",
   "metadata": {},
   "source": [
    "### 1.3. Dropping irrelevant columns"
   ]
  },
  {
   "cell_type": "code",
   "execution_count": 9,
   "id": "6d4957ed-82d1-4552-83cc-574b884876e9",
   "metadata": {},
   "outputs": [],
   "source": [
    "# Dropped date columns as they are of object datatype\n",
    "\n",
    "X=df_amazon.iloc[:,0:62] #independent columns\n",
    "cols = [0, 36]\n",
    "X.drop(X.columns[cols], axis=1, inplace=True)\n",
    "y=df_amazon.iloc[:,-1] #target variable"
   ]
  },
  {
   "cell_type": "markdown",
   "id": "ecff5062",
   "metadata": {},
   "source": [
    "### 1.4. Handling outliers using z-scores"
   ]
  },
  {
   "cell_type": "code",
   "execution_count": 10,
   "id": "9e887e9d",
   "metadata": {},
   "outputs": [],
   "source": [
    "z_scores = zscore(X)\n",
    "data_no_outliers = X[(np.abs(z_scores) < 3).all(axis=1)]"
   ]
  },
  {
   "cell_type": "code",
   "execution_count": 11,
   "id": "6fa9de98",
   "metadata": {
    "scrolled": true
   },
   "outputs": [
    {
     "name": "stdout",
     "output_type": "stream",
     "text": [
      "\n",
      "No outliers detected.\n"
     ]
    }
   ],
   "source": [
    "if data_no_outliers.empty:\n",
    "    print(\"\\nNo outliers detected.\")\n",
    "else:\n",
    "    print(\"\\nData without outliers:\")\n",
    "    print(data_no_outliers)"
   ]
  },
  {
   "cell_type": "markdown",
   "id": "77482e31",
   "metadata": {},
   "source": [
    "## 2. Data transformation"
   ]
  },
  {
   "cell_type": "markdown",
   "id": "cb408ccf",
   "metadata": {},
   "source": [
    "### 2.1. Feature scaling "
   ]
  },
  {
   "cell_type": "code",
   "execution_count": 12,
   "id": "358407dd",
   "metadata": {},
   "outputs": [],
   "source": [
    "# Scaling all the features and the target variable as well\n",
    "scaler_features = StandardScaler()\n",
    "scaler_target = StandardScaler()\n",
    "\n",
    "X_scaled = scaler_features.fit_transform(X)\n",
    "y_scaled = scaler_target.fit_transform(y.values.reshape(-1, 1)).flatten()"
   ]
  },
  {
   "cell_type": "markdown",
   "id": "cb2421ac",
   "metadata": {},
   "source": [
    "## 3. Data splitting"
   ]
  },
  {
   "cell_type": "code",
   "execution_count": 13,
   "id": "5aaaf3c7",
   "metadata": {},
   "outputs": [],
   "source": [
    "X_train, X_test, y_train, y_test = train_test_split(X_scaled, y_scaled, test_size=0.2, random_state=26)\n",
    "\n",
    "# Creating a model\n",
    "model = LinearRegression()\n",
    "\n",
    "# Training the model on the training set\n",
    "model.fit(X_train, y_train)\n",
    "\n",
    "# Making predictions on the test set\n",
    "y_pred = model.predict(X_test)"
   ]
  },
  {
   "cell_type": "markdown",
   "id": "f131664e",
   "metadata": {},
   "source": [
    "## 4. Initial model evaluation"
   ]
  },
  {
   "cell_type": "code",
   "execution_count": 14,
   "id": "b6f8f765",
   "metadata": {
    "scrolled": true
   },
   "outputs": [
    {
     "name": "stdout",
     "output_type": "stream",
     "text": [
      "Model Performance\n",
      "Mean Squared Error (MSE): 0.0013\n",
      "R-squared (R2): 0.9988\n",
      "The values of MSE and R-squared denotes that the model performs well.\n"
     ]
    }
   ],
   "source": [
    "model.fit(X_train, y_train)\n",
    "\n",
    "# Make predictions on the test set\n",
    "y_pred = model.predict(X_test)\n",
    "\n",
    "# Evaluating the model\n",
    "\n",
    "# Average difference between actual and predicted values\n",
    "mse = mean_squared_error(y_test, y_pred)\n",
    "\n",
    "# Measure of how well the model explains variance in target variable\n",
    "r2 = r2_score(y_test, y_pred)\n",
    "\n",
    "print(\"Model Performance\")\n",
    "print(f\"Mean Squared Error (MSE): {mse:.4f}\")\n",
    "print(f\"R-squared (R2): {r2:.4f}\")\n",
    "print(\"The values of MSE and R-squared denotes that the model performs well.\")"
   ]
  },
  {
   "cell_type": "markdown",
   "id": "9b41e027",
   "metadata": {},
   "source": [
    "## 5. Feature engineering"
   ]
  },
  {
   "cell_type": "markdown",
   "id": "a4a87516",
   "metadata": {},
   "source": [
    "### 5.1. Using of Extra Trees Regressor for selecting important features"
   ]
  },
  {
   "cell_type": "code",
   "execution_count": 15,
   "id": "6009e77c-9bc1-4b7b-a6d5-7422b8e4b211",
   "metadata": {},
   "outputs": [
    {
     "data": {
      "text/html": [
       "<style>#sk-container-id-1 {color: black;}#sk-container-id-1 pre{padding: 0;}#sk-container-id-1 div.sk-toggleable {background-color: white;}#sk-container-id-1 label.sk-toggleable__label {cursor: pointer;display: block;width: 100%;margin-bottom: 0;padding: 0.3em;box-sizing: border-box;text-align: center;}#sk-container-id-1 label.sk-toggleable__label-arrow:before {content: \"▸\";float: left;margin-right: 0.25em;color: #696969;}#sk-container-id-1 label.sk-toggleable__label-arrow:hover:before {color: black;}#sk-container-id-1 div.sk-estimator:hover label.sk-toggleable__label-arrow:before {color: black;}#sk-container-id-1 div.sk-toggleable__content {max-height: 0;max-width: 0;overflow: hidden;text-align: left;background-color: #f0f8ff;}#sk-container-id-1 div.sk-toggleable__content pre {margin: 0.2em;color: black;border-radius: 0.25em;background-color: #f0f8ff;}#sk-container-id-1 input.sk-toggleable__control:checked~div.sk-toggleable__content {max-height: 200px;max-width: 100%;overflow: auto;}#sk-container-id-1 input.sk-toggleable__control:checked~label.sk-toggleable__label-arrow:before {content: \"▾\";}#sk-container-id-1 div.sk-estimator input.sk-toggleable__control:checked~label.sk-toggleable__label {background-color: #d4ebff;}#sk-container-id-1 div.sk-label input.sk-toggleable__control:checked~label.sk-toggleable__label {background-color: #d4ebff;}#sk-container-id-1 input.sk-hidden--visually {border: 0;clip: rect(1px 1px 1px 1px);clip: rect(1px, 1px, 1px, 1px);height: 1px;margin: -1px;overflow: hidden;padding: 0;position: absolute;width: 1px;}#sk-container-id-1 div.sk-estimator {font-family: monospace;background-color: #f0f8ff;border: 1px dotted black;border-radius: 0.25em;box-sizing: border-box;margin-bottom: 0.5em;}#sk-container-id-1 div.sk-estimator:hover {background-color: #d4ebff;}#sk-container-id-1 div.sk-parallel-item::after {content: \"\";width: 100%;border-bottom: 1px solid gray;flex-grow: 1;}#sk-container-id-1 div.sk-label:hover label.sk-toggleable__label {background-color: #d4ebff;}#sk-container-id-1 div.sk-serial::before {content: \"\";position: absolute;border-left: 1px solid gray;box-sizing: border-box;top: 0;bottom: 0;left: 50%;z-index: 0;}#sk-container-id-1 div.sk-serial {display: flex;flex-direction: column;align-items: center;background-color: white;padding-right: 0.2em;padding-left: 0.2em;position: relative;}#sk-container-id-1 div.sk-item {position: relative;z-index: 1;}#sk-container-id-1 div.sk-parallel {display: flex;align-items: stretch;justify-content: center;background-color: white;position: relative;}#sk-container-id-1 div.sk-item::before, #sk-container-id-1 div.sk-parallel-item::before {content: \"\";position: absolute;border-left: 1px solid gray;box-sizing: border-box;top: 0;bottom: 0;left: 50%;z-index: -1;}#sk-container-id-1 div.sk-parallel-item {display: flex;flex-direction: column;z-index: 1;position: relative;background-color: white;}#sk-container-id-1 div.sk-parallel-item:first-child::after {align-self: flex-end;width: 50%;}#sk-container-id-1 div.sk-parallel-item:last-child::after {align-self: flex-start;width: 50%;}#sk-container-id-1 div.sk-parallel-item:only-child::after {width: 0;}#sk-container-id-1 div.sk-dashed-wrapped {border: 1px dashed gray;margin: 0 0.4em 0.5em 0.4em;box-sizing: border-box;padding-bottom: 0.4em;background-color: white;}#sk-container-id-1 div.sk-label label {font-family: monospace;font-weight: bold;display: inline-block;line-height: 1.2em;}#sk-container-id-1 div.sk-label-container {text-align: center;}#sk-container-id-1 div.sk-container {/* jupyter's `normalize.less` sets `[hidden] { display: none; }` but bootstrap.min.css set `[hidden] { display: none !important; }` so we also need the `!important` here to be able to override the default hidden behavior on the sphinx rendered scikit-learn.org. See: https://github.com/scikit-learn/scikit-learn/issues/21755 */display: inline-block !important;position: relative;}#sk-container-id-1 div.sk-text-repr-fallback {display: none;}</style><div id=\"sk-container-id-1\" class=\"sk-top-container\"><div class=\"sk-text-repr-fallback\"><pre>ExtraTreesRegressor(random_state=7)</pre><b>In a Jupyter environment, please rerun this cell to show the HTML representation or trust the notebook. <br />On GitHub, the HTML representation is unable to render, please try loading this page with nbviewer.org.</b></div><div class=\"sk-container\" hidden><div class=\"sk-item\"><div class=\"sk-estimator sk-toggleable\"><input class=\"sk-toggleable__control sk-hidden--visually\" id=\"sk-estimator-id-1\" type=\"checkbox\" checked><label for=\"sk-estimator-id-1\" class=\"sk-toggleable__label sk-toggleable__label-arrow\">ExtraTreesRegressor</label><div class=\"sk-toggleable__content\"><pre>ExtraTreesRegressor(random_state=7)</pre></div></div></div></div></div>"
      ],
      "text/plain": [
       "ExtraTreesRegressor(random_state=7)"
      ]
     },
     "execution_count": 15,
     "metadata": {},
     "output_type": "execute_result"
    }
   ],
   "source": [
    "\n",
    "model = ExtraTreesRegressor(random_state=7)\n",
    "model.fit(X,y)"
   ]
  },
  {
   "cell_type": "code",
   "execution_count": 16,
   "id": "3f6901b1",
   "metadata": {
    "scrolled": true
   },
   "outputs": [
    {
     "name": "stdout",
     "output_type": "stream",
     "text": [
      "[8.20325588e-02 6.97766303e-02 6.42448255e-02 5.58417323e-02\n",
      " 3.28178157e-05 2.88730375e-05 1.24714213e-02 2.45443340e-02\n",
      " 1.99137247e-02 4.53255534e-02 4.51340582e-02 2.67359737e-02\n",
      " 4.91424179e-02 5.52984709e-02 4.51918276e-02 4.19093439e-02\n",
      " 2.90557584e-02 1.01383054e-02 4.90380881e-02 5.71104926e-02\n",
      " 6.63743456e-02 6.50353242e-02 3.84674851e-02 3.01384339e-05\n",
      " 2.34958338e-05 3.87299647e-05 2.64046846e-05 0.00000000e+00\n",
      " 2.71329559e-05 2.53095166e-05 4.12982474e-05 3.93779436e-05\n",
      " 3.29420875e-05 3.15322091e-05 3.21910784e-05 1.91563137e-05\n",
      " 3.18093337e-05 3.90271538e-04 6.46335753e-04 8.18502561e-06\n",
      " 5.12771093e-06 2.84952286e-06 1.77280420e-06 5.50568766e-07\n",
      " 0.00000000e+00 3.57665439e-06 8.18646805e-03 4.80465415e-04\n",
      " 7.69380238e-04 8.38753209e-03 2.35456998e-04 8.27722882e-03\n",
      " 7.57482138e-04 1.67499100e-02 1.01433054e-03 1.24480208e-04\n",
      " 2.93832875e-04 1.31118818e-04 1.30339278e-04 1.59423813e-04]\n"
     ]
    }
   ],
   "source": [
    "print(model.feature_importances_)"
   ]
  },
  {
   "cell_type": "markdown",
   "id": "b2423e47",
   "metadata": {},
   "source": [
    "### 5.2. Plotting the graph of selected features"
   ]
  },
  {
   "cell_type": "code",
   "execution_count": 17,
   "id": "5118d143-ba48-4820-8156-2aadaaedf901",
   "metadata": {
    "scrolled": false
   },
   "outputs": [
    {
     "data": {
      "image/png": "[encoded data removed]",
      "text/plain": [
       "<Figure size 640x480 with 1 Axes>"
      ]
     },
     "metadata": {},
     "output_type": "display_data"
    }
   ],
   "source": [
    "#plot graph of feature importances for better visualization\n",
    "feat_importances = pd.Series(model.feature_importances_, index=X.columns)\n",
    "feat_importances.nlargest(20).plot(kind='barh')\n",
    "plt.show()"
   ]
  },
  {
   "cell_type": "markdown",
   "id": "111e0b6b",
   "metadata": {},
   "source": [
    "### 5.3. Revealing the model with features of highest importance"
   ]
  },
  {
   "cell_type": "code",
   "execution_count": 18,
   "id": "9c6770b0",
   "metadata": {},
   "outputs": [],
   "source": [
    "X = X[['Open', 'High', 'Low', 'EMA50','EMA100','EMA20','Close(t)','MA5',\n",
    "       'S_Open(t-1)','EMA10','MA10','MA20','EMA200','MA50','Lower_Band', \n",
    "       'S_Close(t-2)',  'S_Close(t-3)','S_Close(t-5)', 'S_Close(t-1)',\n",
    "       'QQQ_MA20']]"
   ]
  },
  {
   "cell_type": "code",
   "execution_count": 19,
   "id": "b9bd99e7",
   "metadata": {},
   "outputs": [
    {
     "name": "stdout",
     "output_type": "stream",
     "text": [
      "<class 'pandas.core.frame.DataFrame'>\n",
      "RangeIndex: 2473 entries, 0 to 2472\n",
      "Data columns (total 20 columns):\n",
      " #   Column        Non-Null Count  Dtype  \n",
      "---  ------        --------------  -----  \n",
      " 0   Open          2473 non-null   float64\n",
      " 1   High          2473 non-null   float64\n",
      " 2   Low           2473 non-null   float64\n",
      " 3   EMA50         2473 non-null   float64\n",
      " 4   EMA100        2473 non-null   float64\n",
      " 5   EMA20         2473 non-null   float64\n",
      " 6   Close(t)      2473 non-null   float64\n",
      " 7   MA5           2473 non-null   float64\n",
      " 8   S_Open(t-1)   2473 non-null   float64\n",
      " 9   EMA10         2473 non-null   float64\n",
      " 10  MA10          2473 non-null   float64\n",
      " 11  MA20          2473 non-null   float64\n",
      " 12  EMA200        2473 non-null   float64\n",
      " 13  MA50          2473 non-null   float64\n",
      " 14  Lower_Band    2473 non-null   float64\n",
      " 15  S_Close(t-2)  2473 non-null   float64\n",
      " 16  S_Close(t-3)  2473 non-null   float64\n",
      " 17  S_Close(t-5)  2473 non-null   float64\n",
      " 18  S_Close(t-1)  2473 non-null   float64\n",
      " 19  QQQ_MA20      2473 non-null   float64\n",
      "dtypes: float64(20)\n",
      "memory usage: 386.5 KB\n"
     ]
    }
   ],
   "source": [
    "X.info()"
   ]
  },
  {
   "cell_type": "markdown",
   "id": "0850e638",
   "metadata": {},
   "source": [
    "## 6. Model selection"
   ]
  },
  {
   "cell_type": "markdown",
   "id": "04cd4239",
   "metadata": {},
   "source": [
    "### 6.1. Scaling and splitting the selected features"
   ]
  },
  {
   "cell_type": "code",
   "execution_count": 20,
   "id": "4aef6115",
   "metadata": {},
   "outputs": [],
   "source": [
    "X_scaled = scaler_features.fit_transform(X)"
   ]
  },
  {
   "cell_type": "code",
   "execution_count": 21,
   "id": "1f34de50",
   "metadata": {},
   "outputs": [],
   "source": [
    "\n",
    "X_train, X_test, y_train, y_test = train_test_split(X_scaled, y_scaled, test_size=0.2, random_state=26)"
   ]
  },
  {
   "cell_type": "markdown",
   "id": "38484baa",
   "metadata": {},
   "source": [
    "### 6.2.1 Model 1: Linear Regression"
   ]
  },
  {
   "cell_type": "markdown",
   "id": "a2b6257c",
   "metadata": {},
   "source": [
    "\n"
   ]
  },
  {
   "cell_type": "code",
   "execution_count": 22,
   "id": "07135ac9",
   "metadata": {},
   "outputs": [
    {
     "name": "stdout",
     "output_type": "stream",
     "text": [
      "Model Performance\n",
      "Mean Squared Error (MSE): 0.0012\n",
      "R-squared (R2): 0.9988\n"
     ]
    }
   ],
   "source": [
    "# Creating a model\n",
    "model = LinearRegression()\n",
    "\n",
    "# Training the model on the training set\n",
    "model.fit(X_train, y_train)\n",
    "\n",
    "# Make predictions on the test set\n",
    "y_pred = model.predict(X_test)\n",
    "\n",
    "# Evaluating the model\n",
    "\n",
    "# Average difference between actual and predicted values\n",
    "mse = mean_squared_error(y_test, y_pred)\n",
    "\n",
    "# Measure of how well the model explains variance in target variable\n",
    "r2 = r2_score(y_test, y_pred)\n",
    "\n",
    "print(\"Model Performance\")\n",
    "print(f\"Mean Squared Error (MSE): {mse:.4f}\")\n",
    "print(f\"R-squared (R2): {r2:.4f}\")"
   ]
  },
  {
   "cell_type": "markdown",
   "id": "4e2d070d",
   "metadata": {},
   "source": [
    "### 6.2.2. Hyperparameter tuning using Grid Search CV"
   ]
  },
  {
   "cell_type": "code",
   "execution_count": 23,
   "id": "42ee1816",
   "metadata": {},
   "outputs": [
    {
     "name": "stdout",
     "output_type": "stream",
     "text": [
      "Best hyperparameters: {'copy_X': True, 'fit_intercept': False}\n"
     ]
    }
   ],
   "source": [
    "# Define the hyperparameters to be tuned\n",
    "hyperparameters = {\n",
    "    'fit_intercept': [True, False],\n",
    "    'copy_X': [True, False],\n",
    "                    }\n",
    "\n",
    "# Perform grid search cross-validation\n",
    "grid_search = GridSearchCV(model, hyperparameters, cv=5)\n",
    "grid_search.fit(X_train, y_train)\n",
    "\n",
    "# Print the best hyperparameters\n",
    "print(\"Best hyperparameters:\", grid_search.best_params_)\n",
    "\n",
    "# Predict on the test set using the best model\n",
    "best_model = grid_search.best_estimator_\n",
    "predictions = best_model.predict(X_test)"
   ]
  },
  {
   "cell_type": "markdown",
   "id": "495e2144",
   "metadata": {},
   "source": [
    "### 6.2.3. Model after using hyperparameter tuning"
   ]
  },
  {
   "cell_type": "code",
   "execution_count": 24,
   "id": "5a5dc3a5",
   "metadata": {},
   "outputs": [
    {
     "name": "stdout",
     "output_type": "stream",
     "text": [
      "Model Performance after tuning\n",
      "Mean Squared Error (MSE): 0.0012\n",
      "R-squared (R2): 0.9988\n"
     ]
    }
   ],
   "source": [
    "model = LinearRegression(fit_intercept=False,copy_X=True)\n",
    "\n",
    "# Training the model on the training set\n",
    "model.fit(X_train, y_train)\n",
    "\n",
    "# Make predictions on the test set\n",
    "y_pred = model.predict(X_test)\n",
    "\n",
    "from sklearn.metrics import mean_squared_error, r2_score\n",
    "\n",
    "# Evaluating the model\n",
    "\n",
    "# Average difference between actual and predicted values\n",
    "mse = mean_squared_error(y_test, y_pred)\n",
    "\n",
    "# Measure of how well the model explains variance in target variable\n",
    "r2 = r2_score(y_test, y_pred)\n",
    "\n",
    "print(\"Model Performance after tuning\")\n",
    "print(f\"Mean Squared Error (MSE): {mse:.4f}\")\n",
    "print(f\"R-squared (R2): {r2:.4f}\")"
   ]
  },
  {
   "cell_type": "markdown",
   "id": "a0c6ff8f",
   "metadata": {},
   "source": [
    "### 6.2.4. Visualization of the actual and predicted values"
   ]
  },
  {
   "cell_type": "code",
   "execution_count": 25,
   "id": "7da6fc0a",
   "metadata": {
    "scrolled": false
   },
   "outputs": [
    {
     "data": {
      "image/png": "[encoded data removed]",
      "text/plain": [
       "<Figure size 640x480 with 1 Axes>"
      ]
     },
     "metadata": {},
     "output_type": "display_data"
    }
   ],
   "source": [
    "# Scatter plot of actual vs predicted values\n",
    "plt.scatter(y_test, y_pred, alpha=0.5)\n",
    "plt.title('Actual vs Predicted Values')\n",
    "plt.xlabel('Actual Values')\n",
    "plt.ylabel('Predicted Values')\n",
    "plt.show()\n"
   ]
  },
  {
   "cell_type": "markdown",
   "id": "4f2a6b49",
   "metadata": {},
   "source": [
    "### Here, the plot shows the actual and predicted values in a single line. This shows the model is making accurate predictions."
   ]
  },
  {
   "cell_type": "markdown",
   "id": "6c5b1239",
   "metadata": {},
   "source": [
    "### 6.3.1. Model 2: Support Vector Machine (SVM)"
   ]
  },
  {
   "cell_type": "code",
   "execution_count": 26,
   "id": "84f72a6a",
   "metadata": {
    "scrolled": true
   },
   "outputs": [
    {
     "name": "stdout",
     "output_type": "stream",
     "text": [
      "Model Performance\n",
      "SVM Mean Squared Error: 0.002252721376394206\n",
      "SVM R-squared: 0.9978356973753884\n"
     ]
    }
   ],
   "source": [
    "# Initialize SVM regression model\n",
    "svm_regressor = SVR() # You can choose a different kernel based on your data\n",
    "\n",
    "# Train the SVM model using the training data\n",
    "svm_regressor.fit(X_train, y_train)\n",
    "\n",
    "# Make predictions on the test data\n",
    "predictions_svm = svm_regressor.predict(X_test)\n",
    "\n",
    "# Evaluate the SVM model (use appropriate metrics based on your regression problem)\n",
    "from sklearn.metrics import mean_squared_error, r2_score\n",
    "\n",
    "mse_svm = mean_squared_error(y_test, predictions_svm)\n",
    "r2_svm = r2_score(y_test, predictions_svm)\n",
    "\n",
    "print('Model Performance')\n",
    "print(\"SVM Mean Squared Error:\", mse_svm)\n",
    "print(\"SVM R-squared:\", r2_svm)"
   ]
  },
  {
   "cell_type": "markdown",
   "id": "db3f3667",
   "metadata": {},
   "source": [
    "### 6.3.2. Hyperparameter tuning"
   ]
  },
  {
   "cell_type": "code",
   "execution_count": 27,
   "id": "d2a4f386",
   "metadata": {},
   "outputs": [
    {
     "name": "stdout",
     "output_type": "stream",
     "text": [
      "Best hyperparameters: {'C': 10, 'gamma': 0.1, 'kernel': 'linear'}\n"
     ]
    }
   ],
   "source": [
    "# Define the hyperparameters and their respective values to be tuned\n",
    "param_grid = {\n",
    "    'C': [0.1, 1, 10],\n",
    "    'kernel': ['linear', 'rbf'],\n",
    "    'gamma': [0.1, 1, 'scale', 'auto']\n",
    "}\n",
    "\n",
    "# Initialize the SVM regression model\n",
    "svm_regressor = SVR()\n",
    "\n",
    "# Perform Grid Search with 5-fold cross-validation\n",
    "grid_search = GridSearchCV(estimator=svm_regressor, param_grid=param_grid, cv=5)\n",
    "grid_search.fit(X_train, y_train)\n",
    "\n",
    "# Print the best hyperparameters\n",
    "print(\"Best hyperparameters:\", grid_search.best_params_)\n"
   ]
  },
  {
   "cell_type": "markdown",
   "id": "59856b02",
   "metadata": {},
   "source": [
    "### 6.3.3. Model after using hyperparameter tuning"
   ]
  },
  {
   "cell_type": "code",
   "execution_count": 28,
   "id": "2b407680",
   "metadata": {
    "scrolled": true
   },
   "outputs": [
    {
     "name": "stdout",
     "output_type": "stream",
     "text": [
      "Model Performance after tuning\n",
      "SVM Mean Squared Error: 0.0016227509946044438\n",
      "SVM R-squared: 0.9984409415769228\n"
     ]
    }
   ],
   "source": [
    "# Initialize SVM regression model\n",
    "svm_regressor = SVR(C= 10, gamma= 0.1, kernel='linear') # You can choose a different kernel based on your data\n",
    "\n",
    "# Train the SVM model using the training data\n",
    "svm_regressor.fit(X_train, y_train)\n",
    "\n",
    "# Make predictions on the test data\n",
    "predictions_svm = svm_regressor.predict(X_test)\n",
    "\n",
    "# Evaluate the SVM model (use appropriate metrics based on your regression problem)\n",
    "from sklearn.metrics import mean_squared_error, r2_score\n",
    "\n",
    "mse_svm = mean_squared_error(y_test, predictions_svm)\n",
    "r2_svm = r2_score(y_test, predictions_svm)\n",
    "\n",
    "\n",
    "print('Model Performance after tuning')\n",
    "print(\"SVM Mean Squared Error:\", mse_svm)\n",
    "print(\"SVM R-squared:\", r2_svm)"
   ]
  },
  {
   "cell_type": "markdown",
   "id": "4164e3bb",
   "metadata": {},
   "source": [
    "### 6.3.4. Visualization of the actual and predicted values"
   ]
  },
  {
   "cell_type": "code",
   "execution_count": 29,
   "id": "503fb8cf",
   "metadata": {},
   "outputs": [
    {
     "data": {
      "image/png": "[encoded data removed]",
      "text/plain": [
       "<Figure size 640x480 with 1 Axes>"
      ]
     },
     "metadata": {},
     "output_type": "display_data"
    }
   ],
   "source": [
    "# Scatter plot of actual vs predicted values\n",
    "plt.scatter(y_test, y_pred, alpha=0.5)\n",
    "plt.title('Actual vs Predicted Values')\n",
    "plt.xlabel('Actual Values')\n",
    "plt.ylabel('Predicted Values')\n",
    "plt.show()\n"
   ]
  },
  {
   "cell_type": "markdown",
   "id": "6a5f68cf",
   "metadata": {},
   "source": [
    "### 6.4.1. Model 3: Random Forest Regression"
   ]
  },
  {
   "cell_type": "code",
   "execution_count": 30,
   "id": "f11a3573",
   "metadata": {},
   "outputs": [
    {
     "name": "stdout",
     "output_type": "stream",
     "text": [
      "Model performance\n",
      "Mean Squared Error: 0.0011397428577025839\n",
      "R-Squared: 0.9989049917650018\n"
     ]
    }
   ],
   "source": [
    "rf_regressor = RandomForestRegressor(n_estimators=100, random_state=42)\n",
    "\n",
    "# Train the model\n",
    "rf_regressor.fit(X_train, y_train)\n",
    "\n",
    "# Make predictions on the test set\n",
    "y_pred = rf_regressor.predict(X_test)\n",
    "\n",
    "# Evaluate the model\n",
    "mse = mean_squared_error(y_test, y_pred)\n",
    "r2 = r2_score(y_test, y_pred)\n",
    "\n",
    "print(\"Model performance\")\n",
    "print(f'Mean Squared Error: {mse}')\n",
    "print(f'R-Squared: {r2}')\n"
   ]
  },
  {
   "cell_type": "markdown",
   "id": "4f06007b",
   "metadata": {},
   "source": [
    "### 6.4.2. Hyperparameter tuning"
   ]
  },
  {
   "cell_type": "code",
   "execution_count": 31,
   "id": "63fa8526",
   "metadata": {},
   "outputs": [
    {
     "name": "stdout",
     "output_type": "stream",
     "text": [
      "Best Hyperparameters: {'max_depth': 10, 'min_samples_leaf': 2, 'min_samples_split': 5, 'n_estimators': 50}\n"
     ]
    }
   ],
   "source": [
    "# Define the parameter grid to search\n",
    "param_grid = {\n",
    "    'n_estimators': [50, 100],\n",
    "    'max_depth': [None, 10],\n",
    "    'min_samples_split': [2, 5],\n",
    "    'min_samples_leaf': [1, 2]\n",
    "}\n",
    "\n",
    "# Create the Random Forest Regressor\n",
    "rf_regressor = RandomForestRegressor(random_state=42)\n",
    "\n",
    "# Create the GridSearchCV object\n",
    "grid_search = GridSearchCV(\n",
    "    estimator=rf_regressor,\n",
    "    param_grid=param_grid,\n",
    "    scoring='neg_mean_squared_error',\n",
    "    cv=5,\n",
    "    n_jobs=-1  # Use parallel processing, adjust as needed based on your system capabilities\n",
    ")\n",
    "\n",
    "# Perform the grid search on the training data\n",
    "grid_search.fit(X_train, y_train)\n",
    "\n",
    "# Get the best parameters from the grid search\n",
    "best_params = grid_search.best_params_\n",
    "\n",
    "print(f'Best Hyperparameters: {best_params}')"
   ]
  },
  {
   "cell_type": "markdown",
   "id": "f0778d09",
   "metadata": {},
   "source": [
    "### 6.4.3. Model after hyperparameter tuning"
   ]
  },
  {
   "cell_type": "code",
   "execution_count": 32,
   "id": "356899c3",
   "metadata": {},
   "outputs": [
    {
     "name": "stdout",
     "output_type": "stream",
     "text": [
      "Model Performance after tuning\n",
      "Mean Squared Error: 0.001176760169128926\n",
      "R-Squared: 0.9988694273738101\n"
     ]
    }
   ],
   "source": [
    "params = {'max_depth': 10, 'min_samples_leaf': 2,\n",
    "          'min_samples_split': 5, 'n_estimators': 50,\n",
    "          'random_state': 42}\n",
    "\n",
    "rf_regressor = RandomForestRegressor(**params)\n",
    "# Train the model\n",
    "rf_regressor.fit(X_train, y_train)\n",
    "\n",
    "# Make predictions on the test set\n",
    "y_pred = rf_regressor.predict(X_test)\n",
    "\n",
    "# Evaluate the model\n",
    "mse = mean_squared_error(y_test, y_pred)\n",
    "r2 = r2_score(y_test, y_pred)\n",
    "\n",
    "\n",
    "print('Model Performance after tuning')\n",
    "print(f'Mean Squared Error: {mse}')\n",
    "print(f'R-Squared: {r2}')\n"
   ]
  },
  {
   "cell_type": "markdown",
   "id": "ce769100",
   "metadata": {},
   "source": [
    "### 6.4.4. Visualization of the actual vs predicted values"
   ]
  },
  {
   "cell_type": "code",
   "execution_count": 33,
   "id": "3360ae81",
   "metadata": {},
   "outputs": [
    {
     "data": {
      "image/png": "[encoded data removed]",
      "text/plain": [
       "<Figure size 640x480 with 1 Axes>"
      ]
     },
     "metadata": {},
     "output_type": "display_data"
    }
   ],
   "source": [
    "# Scatter plot of actual vs predicted values\n",
    "plt.scatter(y_test, y_pred, alpha=0.5)\n",
    "plt.title('Actual vs Predicted Values')\n",
    "plt.xlabel('Actual Values')\n",
    "plt.ylabel('Predicted Values')\n",
    "plt.show()\n"
   ]
  },
  {
   "cell_type": "markdown",
   "id": "679dc51e",
   "metadata": {},
   "source": [
    "### Here, the plot shows the actual and predicted values in a single line. This shows the model is making accurate predictions as it is closely aligned with the diagonal line."
   ]
  },
  {
   "cell_type": "markdown",
   "id": "1921bcc3",
   "metadata": {},
   "source": [
    "### 6.5.1. Model 4 : Decision tree regressor"
   ]
  },
  {
   "cell_type": "code",
   "execution_count": 34,
   "id": "2ed4ff5c",
   "metadata": {},
   "outputs": [
    {
     "name": "stdout",
     "output_type": "stream",
     "text": [
      "Decision Tree Mean Squared Error: 0.0020126325909587814\n",
      "Decision Tree R-Squared: 0.9980663627359175\n"
     ]
    }
   ],
   "source": [
    "# Create a Decision Tree Regressor object\n",
    "dt_regressor = DecisionTreeRegressor(random_state=42)\n",
    "\n",
    "# Train the model\n",
    "dt_regressor.fit(X_train, y_train)\n",
    "\n",
    "# Make predictions on the test set\n",
    "y_pred_dt = dt_regressor.predict(X_test)\n",
    "\n",
    "# Evaluate the model\n",
    "mse_dt = mean_squared_error(y_test, y_pred_dt)\n",
    "r2_dt = r2_score(y_test, y_pred_dt)\n",
    "\n",
    "print(f'Decision Tree Mean Squared Error: {mse_dt}')\n",
    "print(f'Decision Tree R-Squared: {r2_dt}')"
   ]
  },
  {
   "cell_type": "markdown",
   "id": "de28e33d",
   "metadata": {},
   "source": [
    "### 6.5.2. Hyperparameter tuning"
   ]
  },
  {
   "cell_type": "code",
   "execution_count": 35,
   "id": "7c576f09",
   "metadata": {},
   "outputs": [
    {
     "name": "stdout",
     "output_type": "stream",
     "text": [
      "Fitting 5 folds for each of 36 candidates, totalling 180 fits\n",
      "Best Hyperparameters:  {'max_depth': 10, 'min_samples_leaf': 2, 'min_samples_split': 10}\n"
     ]
    }
   ],
   "source": [
    "# Define the hyperparameters and their possible values\n",
    "param_grid = {\n",
    "    'max_depth': [None, 10, 20, 30],\n",
    "    'min_samples_split': [2, 5, 10],\n",
    "    'min_samples_leaf': [1, 2, 4]\n",
    "}\n",
    "\n",
    "# Create a Decision Tree Regressor object\n",
    "dt_regressor = DecisionTreeRegressor(random_state=42)\n",
    "\n",
    "# Perform Grid Search with cross-validation\n",
    "grid_search = GridSearchCV(estimator=dt_regressor, param_grid=param_grid, cv=5, n_jobs=-1, verbose=2)\n",
    "\n",
    "# Fit the Grid Search to the data\n",
    "grid_search.fit(X_train, y_train)\n",
    "\n",
    "# Print the best hyperparameters found by Grid Search\n",
    "print(\"Best Hyperparameters: \", grid_search.best_params_)\n",
    "\n",
    "# Make predictions using the best model\n",
    "best_dt_regressor = grid_search.best_estimator_\n",
    "y_pred_best_dt = best_dt_regressor.predict(X_test)"
   ]
  },
  {
   "cell_type": "markdown",
   "id": "36763e7e",
   "metadata": {},
   "source": [
    "### 6.5.3. Model after hyperparameter tuning\n"
   ]
  },
  {
   "cell_type": "code",
   "execution_count": 36,
   "id": "3a6dcc8e",
   "metadata": {},
   "outputs": [
    {
     "name": "stdout",
     "output_type": "stream",
     "text": [
      "Model Performance after tuning\n",
      "Mean Squared Error: 0.0018797595425072058\n",
      "R-Squared: 0.9981940205503802\n"
     ]
    }
   ],
   "source": [
    "params = {'max_depth': 10, 'min_samples_leaf': 2, \n",
    "          'min_samples_split': 10}\n",
    "\n",
    "dt_regressor = DecisionTreeRegressor(**params)\n",
    "# Train the model\n",
    "dt_regressor.fit(X_train, y_train)\n",
    "\n",
    "# Make predictions on the test set\n",
    "y_pred_dt = dt_regressor.predict(X_test)\n",
    "\n",
    "# Evaluate the model\n",
    "mse_dt = mean_squared_error(y_test, y_pred_dt)\n",
    "r2_dt = r2_score(y_test, y_pred_dt)\n",
    "\n",
    "\n",
    "print('Model Performance after tuning')\n",
    "print(f'Mean Squared Error: {mse_dt}')\n",
    "print(f'R-Squared: {r2_dt}')"
   ]
  },
  {
   "cell_type": "markdown",
   "id": "e286d9c5",
   "metadata": {},
   "source": [
    "### 6.5.4. Visualization of actual vs predicted values"
   ]
  },
  {
   "cell_type": "code",
   "execution_count": 37,
   "id": "617c1694",
   "metadata": {},
   "outputs": [
    {
     "data": {
      "image/png": "[encoded data removed]",
      "text/plain": [
       "<Figure size 640x480 with 1 Axes>"
      ]
     },
     "metadata": {},
     "output_type": "display_data"
    }
   ],
   "source": [
    "# Scatter plot of actual vs predicted values\n",
    "plt.scatter(y_test, y_pred, alpha=0.5)\n",
    "plt.title('Actual vs Predicted Values')\n",
    "plt.xlabel('Actual Values')\n",
    "plt.ylabel('Predicted Values')\n",
    "plt.show()\n"
   ]
  },
  {
   "cell_type": "markdown",
   "id": "5bbb6322",
   "metadata": {},
   "source": [
    "### Depending on the value of Mean Squared Error and R-squared, we can deduce that the Random Forest Algorithm is better than Support Vector Machine, Linear regression and Decision Tree Algorithms."
   ]
  },
  {
   "cell_type": "markdown",
   "id": "e8782099",
   "metadata": {},
   "source": [
    "## 7. Equation evaluated from linear regression model"
   ]
  },
  {
   "cell_type": "code",
   "execution_count": 38,
   "id": "9dbc539b",
   "metadata": {},
   "outputs": [
    {
     "data": {
      "text/plain": [
       "array([-5.14415542e-01,  3.97803532e-01,  2.91661766e-01, -8.37387983e-02,\n",
       "       -8.37387983e-02, -8.37387983e-02,  8.16431145e-01,  1.12757801e-01,\n",
       "        7.29777478e-02, -8.37387983e-02,  6.35641885e-02,  3.90992856e-02,\n",
       "       -8.37387983e-02, -3.44015737e-03, -2.84818482e-03, -1.35042601e-01,\n",
       "        1.03554883e-01, -1.76498671e-02,  1.93627669e-01,  6.29475516e-04])"
      ]
     },
     "execution_count": 38,
     "metadata": {},
     "output_type": "execute_result"
    }
   ],
   "source": [
    "coefficients = model.coef_\n",
    "coefficients"
   ]
  },
  {
   "cell_type": "code",
   "execution_count": 39,
   "id": "4335fb86",
   "metadata": {},
   "outputs": [],
   "source": [
    "intercept = model.intercept_"
   ]
  },
  {
   "cell_type": "code",
   "execution_count": 40,
   "id": "a7feb28b",
   "metadata": {},
   "outputs": [
    {
     "name": "stdout",
     "output_type": "stream",
     "text": [
      "Close_forcast=(-0.51 * Open) + (0.4 * High) + (0.29 * Low) + (-0.08 * EMA50) + (-0.08 * EMA100) + (-0.08 * EMA20) + (0.82 * Close(t)) + (0.11 * MA5) + (0.07 * S_Open(t-1)) + (-0.08 * EMA10) + (0.06 * MA10) + (0.04 * MA20) + (-0.08 * EMA200) + (-0.0 * MA50) + (-0.0 * Lower_Band) + (-0.14 * S_Close(t-2)) + (0.1 * S_Close(t-3)) + (-0.02 * S_Close(t-5)) + (0.19 * S_Close(t-1)) + (0.0 * QQQ_MA20) + 0.0\n"
     ]
    }
   ],
   "source": [
    "feature_names = ['Open', 'High', 'Low', 'EMA50','EMA100','EMA20','Close(t)','MA5',\n",
    "       'S_Open(t-1)','EMA10','MA10','MA20','EMA200','MA50','Lower_Band', \n",
    "       'S_Close(t-2)',  'S_Close(t-3)','S_Close(t-5)', 'S_Close(t-1)', 'QQQ_MA20']\n",
    "\n",
    "# Printing the equation for the linear regression model\n",
    "equation = 'Close_forcast='\n",
    "for i in range(len(coefficients)):\n",
    "    equation += f'({round(coefficients[i], 2)} * {feature_names[i]}) + '\n",
    "equation += f'{round(model.intercept_, 2)}'\n",
    "equation = equation.replace('+ -', '- ')  # Correcting the signs\n",
    "print(equation)"
   ]
  },
  {
   "cell_type": "markdown",
   "id": "0e913956",
   "metadata": {},
   "source": [
    "## Testing our model on facebook dataset"
   ]
  },
  {
   "cell_type": "markdown",
   "id": "8780f66c",
   "metadata": {},
   "source": [
    "## 1. Data cleaning"
   ]
  },
  {
   "cell_type": "markdown",
   "id": "02585548",
   "metadata": {},
   "source": [
    "### 1.1. Loading data and providing information"
   ]
  },
  {
   "cell_type": "code",
   "execution_count": 41,
   "id": "9e35920f",
   "metadata": {},
   "outputs": [],
   "source": [
    "df=pd.read_csv('FB.csv')"
   ]
  },
  {
   "cell_type": "code",
   "execution_count": 42,
   "id": "8aa6ce77",
   "metadata": {},
   "outputs": [
    {
     "name": "stdout",
     "output_type": "stream",
     "text": [
      "<class 'pandas.core.frame.DataFrame'>\n",
      "RangeIndex: 1215 entries, 0 to 1214\n",
      "Data columns (total 64 columns):\n",
      " #   Column            Non-Null Count  Dtype  \n",
      "---  ------            --------------  -----  \n",
      " 0   Date              1215 non-null   object \n",
      " 1   Open              1215 non-null   float64\n",
      " 2   High              1215 non-null   float64\n",
      " 3   Low               1215 non-null   float64\n",
      " 4   Close(t)          1215 non-null   float64\n",
      " 5   Volume            1215 non-null   int64  \n",
      " 6   SD20              1215 non-null   float64\n",
      " 7   Upper_Band        1215 non-null   float64\n",
      " 8   Lower_Band        1215 non-null   float64\n",
      " 9   S_Close(t-1)      1215 non-null   float64\n",
      " 10  S_Close(t-2)      1215 non-null   float64\n",
      " 11  S_Close(t-3)      1215 non-null   float64\n",
      " 12  S_Close(t-5)      1215 non-null   float64\n",
      " 13  S_Open(t-1)       1215 non-null   float64\n",
      " 14  MA5               1215 non-null   float64\n",
      " 15  MA10              1215 non-null   float64\n",
      " 16  MA20              1215 non-null   float64\n",
      " 17  MA50              1215 non-null   float64\n",
      " 18  MA200             1215 non-null   float64\n",
      " 19  EMA10             1215 non-null   float64\n",
      " 20  EMA20             1215 non-null   float64\n",
      " 21  EMA50             1215 non-null   float64\n",
      " 22  EMA100            1215 non-null   float64\n",
      " 23  EMA200            1215 non-null   float64\n",
      " 24  MACD              1215 non-null   float64\n",
      " 25  MACD_EMA          1215 non-null   float64\n",
      " 26  ATR               1215 non-null   float64\n",
      " 27  ADX               1215 non-null   float64\n",
      " 28  CCI               1215 non-null   float64\n",
      " 29  ROC               1215 non-null   float64\n",
      " 30  RSI               1215 non-null   float64\n",
      " 31  William%R         1215 non-null   float64\n",
      " 32  SO%K              1215 non-null   float64\n",
      " 33  STD5              1215 non-null   float64\n",
      " 34  ForceIndex1       1215 non-null   float64\n",
      " 35  ForceIndex20      1215 non-null   float64\n",
      " 36  Date_col          1215 non-null   object \n",
      " 37  Day               1215 non-null   int64  \n",
      " 38  DayofWeek         1215 non-null   int64  \n",
      " 39  DayofYear         1215 non-null   int64  \n",
      " 40  Week              1215 non-null   int64  \n",
      " 41  Is_month_end      1215 non-null   int64  \n",
      " 42  Is_month_start    1215 non-null   int64  \n",
      " 43  Is_quarter_end    1215 non-null   int64  \n",
      " 44  Is_quarter_start  1215 non-null   int64  \n",
      " 45  Is_year_end       1215 non-null   int64  \n",
      " 46  Is_year_start     1215 non-null   int64  \n",
      " 47  Is_leap_year      1215 non-null   int64  \n",
      " 48  Year              1215 non-null   int64  \n",
      " 49  Month             1215 non-null   int64  \n",
      " 50  QQQ_Close         1215 non-null   float64\n",
      " 51  QQQ(t-1)          1215 non-null   float64\n",
      " 52  QQQ(t-2)          1215 non-null   float64\n",
      " 53  QQQ(t-5)          1215 non-null   float64\n",
      " 54  QQQ_MA10          1215 non-null   float64\n",
      " 55  QQQ_MA20          1215 non-null   float64\n",
      " 56  QQQ_MA50          1215 non-null   float64\n",
      " 57  SnP_Close         1215 non-null   float64\n",
      " 58  SnP(t-1))         1215 non-null   float64\n",
      " 59  SnP(t-5)          1215 non-null   float64\n",
      " 60  DJIA_Close        1215 non-null   float64\n",
      " 61  DJIA(t-1))        1215 non-null   float64\n",
      " 62  DJIA(t-5)         1215 non-null   float64\n",
      " 63  Close_forcast     1215 non-null   float64\n",
      "dtypes: float64(48), int64(14), object(2)\n",
      "memory usage: 607.6+ KB\n"
     ]
    }
   ],
   "source": [
    "df.info()"
   ]
  },
  {
   "cell_type": "code",
   "execution_count": 43,
   "id": "4355bf33",
   "metadata": {},
   "outputs": [
    {
     "data": {
      "text/html": [
       "<div>\n",
       "<style scoped>\n",
       "    .dataframe tbody tr th:only-of-type {\n",
       "        vertical-align: middle;\n",
       "    }\n",
       "\n",
       "    .dataframe tbody tr th {\n",
       "        vertical-align: top;\n",
       "    }\n",
       "\n",
       "    .dataframe thead th {\n",
       "        text-align: right;\n",
       "    }\n",
       "</style>\n",
       "<table border=\"1\" class=\"dataframe\">\n",
       "  <thead>\n",
       "    <tr style=\"text-align: right;\">\n",
       "      <th></th>\n",
       "      <th>Open</th>\n",
       "      <th>High</th>\n",
       "      <th>Low</th>\n",
       "      <th>Close(t)</th>\n",
       "      <th>Volume</th>\n",
       "      <th>SD20</th>\n",
       "      <th>Upper_Band</th>\n",
       "      <th>Lower_Band</th>\n",
       "      <th>S_Close(t-1)</th>\n",
       "      <th>S_Close(t-2)</th>\n",
       "      <th>...</th>\n",
       "      <th>QQQ_MA10</th>\n",
       "      <th>QQQ_MA20</th>\n",
       "      <th>QQQ_MA50</th>\n",
       "      <th>SnP_Close</th>\n",
       "      <th>SnP(t-1))</th>\n",
       "      <th>SnP(t-5)</th>\n",
       "      <th>DJIA_Close</th>\n",
       "      <th>DJIA(t-1))</th>\n",
       "      <th>DJIA(t-5)</th>\n",
       "      <th>Close_forcast</th>\n",
       "    </tr>\n",
       "  </thead>\n",
       "  <tbody>\n",
       "    <tr>\n",
       "      <th>count</th>\n",
       "      <td>1215.000000</td>\n",
       "      <td>1215.000000</td>\n",
       "      <td>1215.000000</td>\n",
       "      <td>1215.000000</td>\n",
       "      <td>1.215000e+03</td>\n",
       "      <td>1215.000000</td>\n",
       "      <td>1215.000000</td>\n",
       "      <td>1215.000000</td>\n",
       "      <td>1215.000000</td>\n",
       "      <td>1215.000000</td>\n",
       "      <td>...</td>\n",
       "      <td>1215.000000</td>\n",
       "      <td>1215.000000</td>\n",
       "      <td>1215.000000</td>\n",
       "      <td>1215.000000</td>\n",
       "      <td>1215.000000</td>\n",
       "      <td>1215.000000</td>\n",
       "      <td>1215.000000</td>\n",
       "      <td>1215.000000</td>\n",
       "      <td>1215.000000</td>\n",
       "      <td>1215.000000</td>\n",
       "    </tr>\n",
       "    <tr>\n",
       "      <th>mean</th>\n",
       "      <td>161.260872</td>\n",
       "      <td>163.025062</td>\n",
       "      <td>159.464782</td>\n",
       "      <td>161.352206</td>\n",
       "      <td>2.193150e+07</td>\n",
       "      <td>4.775727</td>\n",
       "      <td>169.655129</td>\n",
       "      <td>150.552220</td>\n",
       "      <td>161.216123</td>\n",
       "      <td>161.079646</td>\n",
       "      <td>...</td>\n",
       "      <td>156.539610</td>\n",
       "      <td>155.857235</td>\n",
       "      <td>153.915699</td>\n",
       "      <td>2592.825712</td>\n",
       "      <td>2591.714955</td>\n",
       "      <td>2587.274206</td>\n",
       "      <td>22936.311547</td>\n",
       "      <td>22927.459720</td>\n",
       "      <td>22892.343934</td>\n",
       "      <td>161.486938</td>\n",
       "    </tr>\n",
       "    <tr>\n",
       "      <th>std</th>\n",
       "      <td>35.907687</td>\n",
       "      <td>36.455796</td>\n",
       "      <td>35.470869</td>\n",
       "      <td>36.002395</td>\n",
       "      <td>1.378257e+07</td>\n",
       "      <td>3.256429</td>\n",
       "      <td>38.469932</td>\n",
       "      <td>32.725619</td>\n",
       "      <td>35.936717</td>\n",
       "      <td>35.876491</td>\n",
       "      <td>...</td>\n",
       "      <td>40.123706</td>\n",
       "      <td>39.579734</td>\n",
       "      <td>38.073895</td>\n",
       "      <td>375.572982</td>\n",
       "      <td>375.257988</td>\n",
       "      <td>374.159815</td>\n",
       "      <td>3592.855125</td>\n",
       "      <td>3593.872478</td>\n",
       "      <td>3598.948369</td>\n",
       "      <td>36.069639</td>\n",
       "    </tr>\n",
       "    <tr>\n",
       "      <th>min</th>\n",
       "      <td>92.830000</td>\n",
       "      <td>95.000000</td>\n",
       "      <td>89.370000</td>\n",
       "      <td>94.160000</td>\n",
       "      <td>5.913100e+06</td>\n",
       "      <td>0.719126</td>\n",
       "      <td>97.858871</td>\n",
       "      <td>85.940276</td>\n",
       "      <td>94.160000</td>\n",
       "      <td>94.070000</td>\n",
       "      <td>...</td>\n",
       "      <td>94.866000</td>\n",
       "      <td>96.542500</td>\n",
       "      <td>98.764000</td>\n",
       "      <td>1829.080000</td>\n",
       "      <td>1829.080000</td>\n",
       "      <td>1829.080000</td>\n",
       "      <td>15660.180000</td>\n",
       "      <td>15660.180000</td>\n",
       "      <td>15660.180000</td>\n",
       "      <td>94.160000</td>\n",
       "    </tr>\n",
       "    <tr>\n",
       "      <th>25%</th>\n",
       "      <td>129.175000</td>\n",
       "      <td>129.980000</td>\n",
       "      <td>128.245000</td>\n",
       "      <td>129.150000</td>\n",
       "      <td>1.367310e+07</td>\n",
       "      <td>2.424704</td>\n",
       "      <td>133.066481</td>\n",
       "      <td>123.944955</td>\n",
       "      <td>129.060000</td>\n",
       "      <td>129.020000</td>\n",
       "      <td>...</td>\n",
       "      <td>116.515500</td>\n",
       "      <td>115.552250</td>\n",
       "      <td>114.285700</td>\n",
       "      <td>2264.485000</td>\n",
       "      <td>2263.740000</td>\n",
       "      <td>2260.245000</td>\n",
       "      <td>19847.825000</td>\n",
       "      <td>19838.545000</td>\n",
       "      <td>19812.250000</td>\n",
       "      <td>129.300000</td>\n",
       "    </tr>\n",
       "    <tr>\n",
       "      <th>50%</th>\n",
       "      <td>166.010000</td>\n",
       "      <td>168.340000</td>\n",
       "      <td>164.200000</td>\n",
       "      <td>166.290000</td>\n",
       "      <td>1.842240e+07</td>\n",
       "      <td>4.124414</td>\n",
       "      <td>175.253308</td>\n",
       "      <td>154.833256</td>\n",
       "      <td>166.280000</td>\n",
       "      <td>166.080000</td>\n",
       "      <td>...</td>\n",
       "      <td>158.698000</td>\n",
       "      <td>158.633500</td>\n",
       "      <td>159.399400</td>\n",
       "      <td>2647.580000</td>\n",
       "      <td>2644.690000</td>\n",
       "      <td>2642.220000</td>\n",
       "      <td>24065.590000</td>\n",
       "      <td>24033.360000</td>\n",
       "      <td>23979.100000</td>\n",
       "      <td>166.320000</td>\n",
       "    </tr>\n",
       "    <tr>\n",
       "      <th>75%</th>\n",
       "      <td>184.915000</td>\n",
       "      <td>186.830000</td>\n",
       "      <td>183.420000</td>\n",
       "      <td>185.345000</td>\n",
       "      <td>2.475265e+07</td>\n",
       "      <td>6.059513</td>\n",
       "      <td>195.254473</td>\n",
       "      <td>173.346231</td>\n",
       "      <td>185.315000</td>\n",
       "      <td>185.305000</td>\n",
       "      <td>...</td>\n",
       "      <td>182.930500</td>\n",
       "      <td>182.923250</td>\n",
       "      <td>181.715800</td>\n",
       "      <td>2878.290000</td>\n",
       "      <td>2878.125000</td>\n",
       "      <td>2874.625000</td>\n",
       "      <td>25886.695000</td>\n",
       "      <td>25884.630000</td>\n",
       "      <td>25863.730000</td>\n",
       "      <td>185.370000</td>\n",
       "    </tr>\n",
       "    <tr>\n",
       "      <th>max</th>\n",
       "      <td>268.040000</td>\n",
       "      <td>278.890000</td>\n",
       "      <td>263.430000</td>\n",
       "      <td>268.440000</td>\n",
       "      <td>1.698037e+08</td>\n",
       "      <td>20.436283</td>\n",
       "      <td>272.146187</td>\n",
       "      <td>229.090179</td>\n",
       "      <td>268.440000</td>\n",
       "      <td>268.440000</td>\n",
       "      <td>...</td>\n",
       "      <td>270.255000</td>\n",
       "      <td>265.454000</td>\n",
       "      <td>255.044600</td>\n",
       "      <td>3386.150000</td>\n",
       "      <td>3386.150000</td>\n",
       "      <td>3386.150000</td>\n",
       "      <td>29551.420000</td>\n",
       "      <td>29551.420000</td>\n",
       "      <td>29551.420000</td>\n",
       "      <td>268.440000</td>\n",
       "    </tr>\n",
       "  </tbody>\n",
       "</table>\n",
       "<p>8 rows × 62 columns</p>\n",
       "</div>"
      ],
      "text/plain": [
       "              Open         High          Low     Close(t)        Volume  \\\n",
       "count  1215.000000  1215.000000  1215.000000  1215.000000  1.215000e+03   \n",
       "mean    161.260872   163.025062   159.464782   161.352206  2.193150e+07   \n",
       "std      35.907687    36.455796    35.470869    36.002395  1.378257e+07   \n",
       "min      92.830000    95.000000    89.370000    94.160000  5.913100e+06   \n",
       "25%     129.175000   129.980000   128.245000   129.150000  1.367310e+07   \n",
       "50%     166.010000   168.340000   164.200000   166.290000  1.842240e+07   \n",
       "75%     184.915000   186.830000   183.420000   185.345000  2.475265e+07   \n",
       "max     268.040000   278.890000   263.430000   268.440000  1.698037e+08   \n",
       "\n",
       "              SD20   Upper_Band   Lower_Band  S_Close(t-1)  S_Close(t-2)  ...  \\\n",
       "count  1215.000000  1215.000000  1215.000000   1215.000000   1215.000000  ...   \n",
       "mean      4.775727   169.655129   150.552220    161.216123    161.079646  ...   \n",
       "std       3.256429    38.469932    32.725619     35.936717     35.876491  ...   \n",
       "min       0.719126    97.858871    85.940276     94.160000     94.070000  ...   \n",
       "25%       2.424704   133.066481   123.944955    129.060000    129.020000  ...   \n",
       "50%       4.124414   175.253308   154.833256    166.280000    166.080000  ...   \n",
       "75%       6.059513   195.254473   173.346231    185.315000    185.305000  ...   \n",
       "max      20.436283   272.146187   229.090179    268.440000    268.440000  ...   \n",
       "\n",
       "          QQQ_MA10     QQQ_MA20     QQQ_MA50    SnP_Close    SnP(t-1))  \\\n",
       "count  1215.000000  1215.000000  1215.000000  1215.000000  1215.000000   \n",
       "mean    156.539610   155.857235   153.915699  2592.825712  2591.714955   \n",
       "std      40.123706    39.579734    38.073895   375.572982   375.257988   \n",
       "min      94.866000    96.542500    98.764000  1829.080000  1829.080000   \n",
       "25%     116.515500   115.552250   114.285700  2264.485000  2263.740000   \n",
       "50%     158.698000   158.633500   159.399400  2647.580000  2644.690000   \n",
       "75%     182.930500   182.923250   181.715800  2878.290000  2878.125000   \n",
       "max     270.255000   265.454000   255.044600  3386.150000  3386.150000   \n",
       "\n",
       "          SnP(t-5)    DJIA_Close    DJIA(t-1))     DJIA(t-5)  Close_forcast  \n",
       "count  1215.000000   1215.000000   1215.000000   1215.000000    1215.000000  \n",
       "mean   2587.274206  22936.311547  22927.459720  22892.343934     161.486938  \n",
       "std     374.159815   3592.855125   3593.872478   3598.948369      36.069639  \n",
       "min    1829.080000  15660.180000  15660.180000  15660.180000      94.160000  \n",
       "25%    2260.245000  19847.825000  19838.545000  19812.250000     129.300000  \n",
       "50%    2642.220000  24065.590000  24033.360000  23979.100000     166.320000  \n",
       "75%    2874.625000  25886.695000  25884.630000  25863.730000     185.370000  \n",
       "max    3386.150000  29551.420000  29551.420000  29551.420000     268.440000  \n",
       "\n",
       "[8 rows x 62 columns]"
      ]
     },
     "execution_count": 43,
     "metadata": {},
     "output_type": "execute_result"
    }
   ],
   "source": [
    "df.describe()"
   ]
  },
  {
   "cell_type": "markdown",
   "id": "749299db",
   "metadata": {},
   "source": [
    "### 1.2. Handling null values"
   ]
  },
  {
   "cell_type": "code",
   "execution_count": 44,
   "id": "44477148",
   "metadata": {},
   "outputs": [
    {
     "data": {
      "text/plain": [
       "Date             0\n",
       "Open             0\n",
       "High             0\n",
       "Low              0\n",
       "Close(t)         0\n",
       "                ..\n",
       "SnP(t-5)         0\n",
       "DJIA_Close       0\n",
       "DJIA(t-1))       0\n",
       "DJIA(t-5)        0\n",
       "Close_forcast    0\n",
       "Length: 64, dtype: int64"
      ]
     },
     "execution_count": 44,
     "metadata": {},
     "output_type": "execute_result"
    }
   ],
   "source": [
    "df.isnull().sum()"
   ]
  },
  {
   "cell_type": "code",
   "execution_count": 45,
   "id": "8d112514",
   "metadata": {},
   "outputs": [
    {
     "name": "stdout",
     "output_type": "stream",
     "text": [
      "No null values.\n"
     ]
    }
   ],
   "source": [
    "df.isnull().any().any()\n",
    "print('No null values.')"
   ]
  },
  {
   "cell_type": "markdown",
   "id": "da2ac5fe",
   "metadata": {},
   "source": [
    "\n",
    "### 1.3. Dropping irrelevant columns"
   ]
  },
  {
   "cell_type": "code",
   "execution_count": 46,
   "id": "373d8a2d",
   "metadata": {},
   "outputs": [],
   "source": [
    "# Dropped date columns as they are of object datatype\n",
    "\n",
    "X=df.iloc[:,0:62] #independent columns\n",
    "cols = [0, 36]\n",
    "X.drop(X.columns[cols], axis=1, inplace=True)\n",
    "y=df.iloc[:,-1] #target variable"
   ]
  },
  {
   "cell_type": "markdown",
   "id": "c4eb9ed4",
   "metadata": {},
   "source": [
    "### 1.4. Handling outliers using z-scores"
   ]
  },
  {
   "cell_type": "code",
   "execution_count": 47,
   "id": "980e349e",
   "metadata": {},
   "outputs": [],
   "source": [
    "import numpy as np\n",
    "from scipy.stats import zscore\n",
    "z_scores = zscore(X)\n",
    "data_no_outliers = X[(np.abs(z_scores) < 3).all(axis=1)]"
   ]
  },
  {
   "cell_type": "code",
   "execution_count": 48,
   "id": "e9314492",
   "metadata": {},
   "outputs": [
    {
     "name": "stdout",
     "output_type": "stream",
     "text": [
      "\n",
      "No outliers detected.\n"
     ]
    }
   ],
   "source": [
    "if data_no_outliers.empty:\n",
    "    print(\"\\nNo outliers detected.\")\n",
    "else:\n",
    "    print(\"\\nData without outliers:\")\n",
    "    print(data_no_outliers)"
   ]
  },
  {
   "cell_type": "markdown",
   "id": "83589ef1",
   "metadata": {},
   "source": [
    "## 2. Data transformation"
   ]
  },
  {
   "cell_type": "markdown",
   "id": "6072a7e9",
   "metadata": {},
   "source": [
    "### 2.1. Feature scaling"
   ]
  },
  {
   "cell_type": "code",
   "execution_count": 49,
   "id": "bc5c0550",
   "metadata": {},
   "outputs": [],
   "source": [
    "from sklearn.preprocessing import StandardScaler\n",
    "\n",
    "# Scaling all the features and the target variable as well\n",
    "scaler_features = StandardScaler()\n",
    "scaler_target = StandardScaler()\n",
    "\n",
    "X_scaled = scaler_features.fit_transform(X)\n",
    "y_scaled = scaler_target.fit_transform(y.values.reshape(-1, 1)).flatten()"
   ]
  },
  {
   "cell_type": "markdown",
   "id": "0573ef73",
   "metadata": {},
   "source": [
    "## 3. Data splitting"
   ]
  },
  {
   "cell_type": "code",
   "execution_count": 50,
   "id": "90f42ab6",
   "metadata": {},
   "outputs": [],
   "source": [
    "from sklearn.model_selection import train_test_split\n",
    "from sklearn.linear_model import LinearRegression  \n",
    "\n",
    "X_train, X_test, y_train, y_test = train_test_split(X_scaled, y_scaled, test_size=0.2, random_state=26)\n",
    "\n",
    "# Creating a model\n",
    "model = LinearRegression()\n",
    "\n",
    "# Training the model on the training set\n",
    "model.fit(X_train, y_train)\n",
    "\n",
    "# Making predictions on the test set\n",
    "y_pred = model.predict(X_test)"
   ]
  },
  {
   "cell_type": "markdown",
   "id": "9df46012",
   "metadata": {},
   "source": [
    "## 4. Initial model evaluation"
   ]
  },
  {
   "cell_type": "code",
   "execution_count": 51,
   "id": "2f79688d",
   "metadata": {
    "scrolled": false
   },
   "outputs": [
    {
     "name": "stdout",
     "output_type": "stream",
     "text": [
      "Model Performance\n",
      "Mean Squared Error (MSE): 0.0084\n",
      "R-squared (R2): 0.9908\n"
     ]
    }
   ],
   "source": [
    "from sklearn.metrics import mean_squared_error, r2_score\n",
    "\n",
    "# Evaluating the model\n",
    "\n",
    "# Average difference between actual and predicted values\n",
    "mse = mean_squared_error(y_test, y_pred)\n",
    "\n",
    "# Measure of how well the model explains variance in target variable\n",
    "r2 = r2_score(y_test, y_pred)\n",
    "\n",
    "print(\"Model Performance\")\n",
    "print(f\"Mean Squared Error (MSE): {mse:.4f}\")\n",
    "print(f\"R-squared (R2): {r2:.4f}\")"
   ]
  },
  {
   "cell_type": "markdown",
   "id": "fbb0c996",
   "metadata": {},
   "source": [
    "## 5. Feature engineering"
   ]
  },
  {
   "cell_type": "code",
   "execution_count": 52,
   "id": "21ffba00",
   "metadata": {},
   "outputs": [
    {
     "data": {
      "text/html": [
       "<style>#sk-container-id-2 {color: black;}#sk-container-id-2 pre{padding: 0;}#sk-container-id-2 div.sk-toggleable {background-color: white;}#sk-container-id-2 label.sk-toggleable__label {cursor: pointer;display: block;width: 100%;margin-bottom: 0;padding: 0.3em;box-sizing: border-box;text-align: center;}#sk-container-id-2 label.sk-toggleable__label-arrow:before {content: \"▸\";float: left;margin-right: 0.25em;color: #696969;}#sk-container-id-2 label.sk-toggleable__label-arrow:hover:before {color: black;}#sk-container-id-2 div.sk-estimator:hover label.sk-toggleable__label-arrow:before {color: black;}#sk-container-id-2 div.sk-toggleable__content {max-height: 0;max-width: 0;overflow: hidden;text-align: left;background-color: #f0f8ff;}#sk-container-id-2 div.sk-toggleable__content pre {margin: 0.2em;color: black;border-radius: 0.25em;background-color: #f0f8ff;}#sk-container-id-2 input.sk-toggleable__control:checked~div.sk-toggleable__content {max-height: 200px;max-width: 100%;overflow: auto;}#sk-container-id-2 input.sk-toggleable__control:checked~label.sk-toggleable__label-arrow:before {content: \"▾\";}#sk-container-id-2 div.sk-estimator input.sk-toggleable__control:checked~label.sk-toggleable__label {background-color: #d4ebff;}#sk-container-id-2 div.sk-label input.sk-toggleable__control:checked~label.sk-toggleable__label {background-color: #d4ebff;}#sk-container-id-2 input.sk-hidden--visually {border: 0;clip: rect(1px 1px 1px 1px);clip: rect(1px, 1px, 1px, 1px);height: 1px;margin: -1px;overflow: hidden;padding: 0;position: absolute;width: 1px;}#sk-container-id-2 div.sk-estimator {font-family: monospace;background-color: #f0f8ff;border: 1px dotted black;border-radius: 0.25em;box-sizing: border-box;margin-bottom: 0.5em;}#sk-container-id-2 div.sk-estimator:hover {background-color: #d4ebff;}#sk-container-id-2 div.sk-parallel-item::after {content: \"\";width: 100%;border-bottom: 1px solid gray;flex-grow: 1;}#sk-container-id-2 div.sk-label:hover label.sk-toggleable__label {background-color: #d4ebff;}#sk-container-id-2 div.sk-serial::before {content: \"\";position: absolute;border-left: 1px solid gray;box-sizing: border-box;top: 0;bottom: 0;left: 50%;z-index: 0;}#sk-container-id-2 div.sk-serial {display: flex;flex-direction: column;align-items: center;background-color: white;padding-right: 0.2em;padding-left: 0.2em;position: relative;}#sk-container-id-2 div.sk-item {position: relative;z-index: 1;}#sk-container-id-2 div.sk-parallel {display: flex;align-items: stretch;justify-content: center;background-color: white;position: relative;}#sk-container-id-2 div.sk-item::before, #sk-container-id-2 div.sk-parallel-item::before {content: \"\";position: absolute;border-left: 1px solid gray;box-sizing: border-box;top: 0;bottom: 0;left: 50%;z-index: -1;}#sk-container-id-2 div.sk-parallel-item {display: flex;flex-direction: column;z-index: 1;position: relative;background-color: white;}#sk-container-id-2 div.sk-parallel-item:first-child::after {align-self: flex-end;width: 50%;}#sk-container-id-2 div.sk-parallel-item:last-child::after {align-self: flex-start;width: 50%;}#sk-container-id-2 div.sk-parallel-item:only-child::after {width: 0;}#sk-container-id-2 div.sk-dashed-wrapped {border: 1px dashed gray;margin: 0 0.4em 0.5em 0.4em;box-sizing: border-box;padding-bottom: 0.4em;background-color: white;}#sk-container-id-2 div.sk-label label {font-family: monospace;font-weight: bold;display: inline-block;line-height: 1.2em;}#sk-container-id-2 div.sk-label-container {text-align: center;}#sk-container-id-2 div.sk-container {/* jupyter's `normalize.less` sets `[hidden] { display: none; }` but bootstrap.min.css set `[hidden] { display: none !important; }` so we also need the `!important` here to be able to override the default hidden behavior on the sphinx rendered scikit-learn.org. See: https://github.com/scikit-learn/scikit-learn/issues/21755 */display: inline-block !important;position: relative;}#sk-container-id-2 div.sk-text-repr-fallback {display: none;}</style><div id=\"sk-container-id-2\" class=\"sk-top-container\"><div class=\"sk-text-repr-fallback\"><pre>ExtraTreesRegressor(random_state=7)</pre><b>In a Jupyter environment, please rerun this cell to show the HTML representation or trust the notebook. <br />On GitHub, the HTML representation is unable to render, please try loading this page with nbviewer.org.</b></div><div class=\"sk-container\" hidden><div class=\"sk-item\"><div class=\"sk-estimator sk-toggleable\"><input class=\"sk-toggleable__control sk-hidden--visually\" id=\"sk-estimator-id-2\" type=\"checkbox\" checked><label for=\"sk-estimator-id-2\" class=\"sk-toggleable__label sk-toggleable__label-arrow\">ExtraTreesRegressor</label><div class=\"sk-toggleable__content\"><pre>ExtraTreesRegressor(random_state=7)</pre></div></div></div></div></div>"
      ],
      "text/plain": [
       "ExtraTreesRegressor(random_state=7)"
      ]
     },
     "execution_count": 52,
     "metadata": {},
     "output_type": "execute_result"
    }
   ],
   "source": [
    "from sklearn.ensemble import ExtraTreesRegressor\n",
    "model = ExtraTreesRegressor(random_state=7)\n",
    "model.fit(X,y)"
   ]
  },
  {
   "cell_type": "code",
   "execution_count": 53,
   "id": "b3b3b71c",
   "metadata": {
    "scrolled": true
   },
   "outputs": [
    {
     "name": "stdout",
     "output_type": "stream",
     "text": [
      "[8.23353616e-02 5.28396712e-02 9.36443562e-02 1.04906169e-01\n",
      " 6.07175899e-04 2.11528169e-04 3.66110408e-02 1.51455499e-03\n",
      " 2.85016454e-02 3.39133319e-02 1.56247548e-02 1.37967571e-02\n",
      " 3.98783029e-02 7.40285123e-02 4.45521850e-02 2.87008202e-03\n",
      " 7.13272210e-03 2.17249109e-03 6.14268092e-02 5.06113037e-02\n",
      " 7.97603759e-02 6.07395063e-02 8.59808251e-02 2.13778539e-04\n",
      " 2.74586666e-04 3.51772966e-04 3.29896242e-04 0.00000000e+00\n",
      " 1.94847246e-04 2.15213474e-04 2.66186699e-04 2.50001192e-04\n",
      " 3.11260211e-04 3.56677296e-04 4.11983089e-04 2.63226760e-04\n",
      " 1.61418763e-04 2.94774783e-04 3.25977927e-04 1.14418501e-04\n",
      " 2.79796524e-05 9.06874595e-06 9.81260529e-06 2.16157997e-06\n",
      " 0.00000000e+00 2.16485795e-04 1.11406558e-04 5.36465633e-04\n",
      " 9.53773219e-03 3.78918178e-03 8.10671452e-04 1.89433197e-03\n",
      " 1.76606674e-04 1.71640382e-03 7.63032334e-04 2.59987814e-04\n",
      " 9.09935947e-04 8.45996488e-04 1.89123545e-04 1.98132312e-04]\n"
     ]
    }
   ],
   "source": [
    "print(model.feature_importances_)"
   ]
  },
  {
   "cell_type": "markdown",
   "id": "03e0369a",
   "metadata": {},
   "source": [
    "### 5.2. Plotting the graph of the selected features"
   ]
  },
  {
   "cell_type": "code",
   "execution_count": 54,
   "id": "f1f2942c",
   "metadata": {},
   "outputs": [
    {
     "data": {
      "image/png": "[encoded data removed]",
      "text/plain": [
       "<Figure size 640x480 with 1 Axes>"
      ]
     },
     "metadata": {},
     "output_type": "display_data"
    }
   ],
   "source": [
    "#plot graph of feature importances for better visualization\n",
    "feat_importances = pd.Series(model.feature_importances_, index=X.columns)\n",
    "feat_importances.nlargest(20).plot(kind='barh')\n",
    "plt.show()"
   ]
  },
  {
   "cell_type": "code",
   "execution_count": 55,
   "id": "83f0e3e3",
   "metadata": {},
   "outputs": [],
   "source": [
    "X=X[['QQQ(t-1)','MA50','QQQ_Close','S_Close(t-5)','S_Close(t-3)','S_Close(t-1)',\n",
    "    'S_Close(t-2)','Upper_Band','S_Open(t-1)','MA10','EMA20','High','EMA100',\n",
    "    'EMA10','MA5','EMA50','Open','EMA200','Low','Close(t)']]"
   ]
  },
  {
   "cell_type": "code",
   "execution_count": 56,
   "id": "ddb83ffd",
   "metadata": {},
   "outputs": [
    {
     "name": "stdout",
     "output_type": "stream",
     "text": [
      "<class 'pandas.core.frame.DataFrame'>\n",
      "RangeIndex: 1215 entries, 0 to 1214\n",
      "Data columns (total 20 columns):\n",
      " #   Column        Non-Null Count  Dtype  \n",
      "---  ------        --------------  -----  \n",
      " 0   QQQ(t-1)      1215 non-null   float64\n",
      " 1   MA50          1215 non-null   float64\n",
      " 2   QQQ_Close     1215 non-null   float64\n",
      " 3   S_Close(t-5)  1215 non-null   float64\n",
      " 4   S_Close(t-3)  1215 non-null   float64\n",
      " 5   S_Close(t-1)  1215 non-null   float64\n",
      " 6   S_Close(t-2)  1215 non-null   float64\n",
      " 7   Upper_Band    1215 non-null   float64\n",
      " 8   S_Open(t-1)   1215 non-null   float64\n",
      " 9   MA10          1215 non-null   float64\n",
      " 10  EMA20         1215 non-null   float64\n",
      " 11  High          1215 non-null   float64\n",
      " 12  EMA100        1215 non-null   float64\n",
      " 13  EMA10         1215 non-null   float64\n",
      " 14  MA5           1215 non-null   float64\n",
      " 15  EMA50         1215 non-null   float64\n",
      " 16  Open          1215 non-null   float64\n",
      " 17  EMA200        1215 non-null   float64\n",
      " 18  Low           1215 non-null   float64\n",
      " 19  Close(t)      1215 non-null   float64\n",
      "dtypes: float64(20)\n",
      "memory usage: 190.0 KB\n"
     ]
    }
   ],
   "source": [
    "X.info()"
   ]
  },
  {
   "cell_type": "markdown",
   "id": "b171f968",
   "metadata": {},
   "source": [
    "# 6. Model selection and evaluation"
   ]
  },
  {
   "cell_type": "markdown",
   "id": "ccd4c4c9",
   "metadata": {},
   "source": [
    "### 6.1. Random Forest Regression"
   ]
  },
  {
   "cell_type": "code",
   "execution_count": 57,
   "id": "77a26c00",
   "metadata": {},
   "outputs": [
    {
     "name": "stdout",
     "output_type": "stream",
     "text": [
      "Mean Squared Error: 0.01007227665066146\n",
      "R-Squared: 0.9889718285075056\n"
     ]
    }
   ],
   "source": [
    "from sklearn.ensemble import RandomForestRegressor\n",
    "\n",
    "rf_regressor = RandomForestRegressor(n_estimators=100, random_state=42)\n",
    "\n",
    "# Train the model\n",
    "rf_regressor.fit(X_train, y_train)\n",
    "\n",
    "# Make predictions on the test set\n",
    "y_pred = rf_regressor.predict(X_test)\n",
    "\n",
    "# Evaluate the model\n",
    "mse = mean_squared_error(y_test, y_pred)\n",
    "r2 = r2_score(y_test, y_pred)\n",
    "\n",
    "print(f'Mean Squared Error: {mse}')\n",
    "print(f'R-Squared: {r2}')\n"
   ]
  },
  {
   "cell_type": "markdown",
   "id": "d0782a17",
   "metadata": {},
   "source": [
    "### 6.2. Linear regression"
   ]
  },
  {
   "cell_type": "code",
   "execution_count": 58,
   "id": "3bc10bec",
   "metadata": {
    "scrolled": true
   },
   "outputs": [
    {
     "name": "stdout",
     "output_type": "stream",
     "text": [
      "Model Performance\n",
      "Mean Squared Error (MSE): 0.0084\n",
      "R-squared (R2): 0.9908\n"
     ]
    }
   ],
   "source": [
    "from sklearn.metrics import mean_squared_error, r2_score\n",
    "\n",
    "# Creating a model\n",
    "model = LinearRegression()\n",
    "\n",
    "# Training the model on the training set\n",
    "model.fit(X_train, y_train)\n",
    "\n",
    "# Make predictions on the test set\n",
    "y_pred = model.predict(X_test)\n",
    "\n",
    "# Evaluating the model\n",
    "\n",
    "# Average difference between actual and predicted values\n",
    "mse = mean_squared_error(y_test, y_pred)\n",
    "\n",
    "# Measure of how well the model explains variance in target variable\n",
    "r2 = r2_score(y_test, y_pred)\n",
    "\n",
    "print(\"Model Performance\")\n",
    "print(f\"Mean Squared Error (MSE): {mse:.4f}\")\n",
    "print(f\"R-squared (R2): {r2:.4f}\")"
   ]
  },
  {
   "cell_type": "markdown",
   "id": "50df2af7",
   "metadata": {},
   "source": [
    "### The performance after feature selection was same so the features removed may not be relevant for the dataset and didn't alter the performance."
   ]
  },
  {
   "cell_type": "markdown",
   "id": "0d5d2c1f",
   "metadata": {},
   "source": [
    "### 6.2.1. Hyperparameter tuning for Linear Regression"
   ]
  },
  {
   "cell_type": "code",
   "execution_count": 59,
   "id": "66d49195",
   "metadata": {},
   "outputs": [
    {
     "name": "stdout",
     "output_type": "stream",
     "text": [
      "Best hyperparameters: {'copy_X': True, 'fit_intercept': False, 'n_jobs': None}\n"
     ]
    }
   ],
   "source": [
    "from sklearn.model_selection import GridSearchCV\n",
    "# Define the hyperparameters to be tuned\n",
    "hyperparameters = {\n",
    "    'fit_intercept': [True, False],\n",
    "    'copy_X': [True, False],\n",
    "    'n_jobs': [None, -1],\n",
    "                    }\n",
    "\n",
    "# Perform grid search cross-validation\n",
    "grid_search = GridSearchCV(model, hyperparameters, cv=5)\n",
    "grid_search.fit(X_train, y_train)\n",
    "\n",
    "# Print the best hyperparameters\n",
    "print(\"Best hyperparameters:\", grid_search.best_params_)\n",
    "\n",
    "# Predict on the test set using the best model\n",
    "best_model = grid_search.best_estimator_\n",
    "predictions = best_model.predict(X_test)"
   ]
  },
  {
   "cell_type": "markdown",
   "id": "36d58d8b",
   "metadata": {},
   "source": [
    "### 6.2.2. Model after hyperparameter tuning"
   ]
  },
  {
   "cell_type": "code",
   "execution_count": 60,
   "id": "f9a53255",
   "metadata": {},
   "outputs": [
    {
     "name": "stdout",
     "output_type": "stream",
     "text": [
      "Model Performance\n",
      "Mean Squared Error (MSE): 0.0084\n",
      "R-squared (R2): 0.9908\n"
     ]
    }
   ],
   "source": [
    "params= {'copy_X': True, 'fit_intercept': False, 'n_jobs': None}\n",
    "\n",
    "model = LinearRegression(**params)\n",
    "\n",
    "# Training the model on the training set\n",
    "model.fit(X_train, y_train)\n",
    "\n",
    "# Make predictions on the test set\n",
    "y_pred = model.predict(X_test)\n",
    "\n",
    "# Evaluating the model\n",
    "\n",
    "# Average difference between actual and predicted values\n",
    "mse = mean_squared_error(y_test, y_pred)\n",
    "\n",
    "# Measure of how well the model explains variance in target variable\n",
    "r2 = r2_score(y_test, y_pred)\n",
    "\n",
    "print(\"Model Performance\")\n",
    "print(f\"Mean Squared Error (MSE): {mse:.4f}\")\n",
    "print(f\"R-squared (R2): {r2:.4f}\")"
   ]
  },
  {
   "cell_type": "markdown",
   "id": "4c41ef0b",
   "metadata": {},
   "source": [
    "### The model doesnot change the value of Mean Squared Error and R-squared so the default parameters were optimum for the models performance.\n"
   ]
  },
  {
   "cell_type": "markdown",
   "id": "5d667025",
   "metadata": {},
   "source": [
    "### 6.3. Support Vector Machines"
   ]
  },
  {
   "cell_type": "code",
   "execution_count": 61,
   "id": "b6065b95",
   "metadata": {},
   "outputs": [
    {
     "name": "stdout",
     "output_type": "stream",
     "text": [
      "SVM Mean Squared Error: 0.025697406944639095\n",
      "SVM R-squared: 0.9718638178311668\n",
      "[CV] END max_depth=None, min_samples_leaf=2, min_samples_split=2; total time=   0.0s\n",
      "[CV] END max_depth=None, min_samples_leaf=4, min_samples_split=5; total time=   0.0s\n",
      "[CV] END max_depth=None, min_samples_leaf=4, min_samples_split=5; total time=   0.0s\n",
      "[CV] END max_depth=10, min_samples_leaf=2, min_samples_split=2; total time=   0.0s\n",
      "[CV] END max_depth=10, min_samples_leaf=2, min_samples_split=2; total time=   0.0s\n",
      "[CV] END max_depth=20, min_samples_leaf=2, min_samples_split=2; total time=   0.0s\n",
      "[CV] END max_depth=20, min_samples_leaf=2, min_samples_split=2; total time=   0.0s\n",
      "[CV] END max_depth=20, min_samples_leaf=2, min_samples_split=5; total time=   0.0s\n",
      "[CV] END max_depth=20, min_samples_leaf=2, min_samples_split=5; total time=   0.0s\n",
      "[CV] END max_depth=30, min_samples_leaf=2, min_samples_split=2; total time=   0.0s\n",
      "[CV] END max_depth=30, min_samples_leaf=2, min_samples_split=2; total time=   0.0s\n",
      "[CV] END max_depth=30, min_samples_leaf=2, min_samples_split=2; total time=   0.0s\n",
      "[CV] END max_depth=30, min_samples_leaf=2, min_samples_split=5; total time=   0.0s\n",
      "[CV] END max_depth=None, min_samples_leaf=1, min_samples_split=2; total time=   0.0s\n",
      "[CV] END max_depth=None, min_samples_leaf=1, min_samples_split=10; total time=   0.0s\n",
      "[CV] END max_depth=None, min_samples_leaf=2, min_samples_split=5; total time=   0.0s\n",
      "[CV] END max_depth=None, min_samples_leaf=4, min_samples_split=10; total time=   0.0s\n",
      "[CV] END max_depth=10, min_samples_leaf=1, min_samples_split=2; total time=   0.0s\n",
      "[CV] END max_depth=10, min_samples_leaf=2, min_samples_split=5; total time=   0.0s\n",
      "[CV] END max_depth=10, min_samples_leaf=2, min_samples_split=5; total time=   0.0s\n",
      "[CV] END max_depth=20, min_samples_leaf=2, min_samples_split=5; total time=   0.0s\n",
      "[CV] END max_depth=20, min_samples_leaf=2, min_samples_split=5; total time=   0.0s\n",
      "[CV] END max_depth=20, min_samples_leaf=2, min_samples_split=5; total time=   0.0s\n",
      "[CV] END max_depth=20, min_samples_leaf=2, min_samples_split=10; total time=   0.0s\n",
      "[CV] END max_depth=30, min_samples_leaf=2, min_samples_split=5; total time=   0.0s\n",
      "[CV] END max_depth=30, min_samples_leaf=2, min_samples_split=5; total time=   0.0s\n",
      "[CV] END max_depth=30, min_samples_leaf=2, min_samples_split=5; total time=   0.0s\n",
      "[CV] END max_depth=30, min_samples_leaf=2, min_samples_split=5; total time=   0.0s\n",
      "[CV] END max_depth=None, min_samples_leaf=1, min_samples_split=2; total time=   0.0s\n",
      "[CV] END max_depth=None, min_samples_leaf=1, min_samples_split=10; total time=   0.0s\n",
      "[CV] END max_depth=None, min_samples_leaf=2, min_samples_split=5; total time=   0.0s\n",
      "[CV] END max_depth=10, min_samples_leaf=1, min_samples_split=2; total time=   0.0s\n",
      "[CV] END max_depth=10, min_samples_leaf=1, min_samples_split=2; total time=   0.0s\n",
      "[CV] END max_depth=10, min_samples_leaf=2, min_samples_split=10; total time=   0.0s\n",
      "[CV] END max_depth=10, min_samples_leaf=2, min_samples_split=10; total time=   0.0s\n",
      "[CV] END max_depth=20, min_samples_leaf=2, min_samples_split=10; total time=   0.0s\n",
      "[CV] END max_depth=20, min_samples_leaf=2, min_samples_split=10; total time=   0.0s\n",
      "[CV] END max_depth=20, min_samples_leaf=2, min_samples_split=10; total time=   0.0s\n",
      "[CV] END max_depth=20, min_samples_leaf=2, min_samples_split=10; total time=   0.0s\n",
      "[CV] END max_depth=30, min_samples_leaf=1, min_samples_split=5; total time=   0.0s\n",
      "[CV] END max_depth=30, min_samples_leaf=1, min_samples_split=5; total time=   0.0s\n",
      "[CV] END max_depth=30, min_samples_leaf=1, min_samples_split=5; total time=   0.0s\n",
      "[CV] END max_depth=30, min_samples_leaf=1, min_samples_split=5; total time=   0.0s\n",
      "[CV] END max_depth=None, min_samples_leaf=1, min_samples_split=2; total time=   0.0s\n",
      "[CV] END max_depth=None, min_samples_leaf=1, min_samples_split=10; total time=   0.0s\n",
      "[CV] END max_depth=None, min_samples_leaf=2, min_samples_split=5; total time=   0.0s\n",
      "[CV] END max_depth=None, min_samples_leaf=2, min_samples_split=10; total time=   0.0s\n",
      "[CV] END max_depth=10, min_samples_leaf=1, min_samples_split=5; total time=   0.0s\n",
      "[CV] END max_depth=10, min_samples_leaf=1, min_samples_split=5; total time=   0.0s\n",
      "[CV] END max_depth=10, min_samples_leaf=4, min_samples_split=5; total time=   0.0s\n",
      "[CV] END max_depth=10, min_samples_leaf=4, min_samples_split=5; total time=   0.0s\n",
      "[CV] END max_depth=10, min_samples_leaf=4, min_samples_split=5; total time=   0.0s\n",
      "[CV] END max_depth=10, min_samples_leaf=4, min_samples_split=5; total time=   0.0s\n",
      "[CV] END max_depth=20, min_samples_leaf=4, min_samples_split=5; total time=   0.0s\n",
      "[CV] END max_depth=20, min_samples_leaf=4, min_samples_split=5; total time=   0.0s\n",
      "[CV] END max_depth=20, min_samples_leaf=4, min_samples_split=10; total time=   0.0s\n",
      "[CV] END max_depth=20, min_samples_leaf=4, min_samples_split=10; total time=   0.0s\n",
      "[CV] END max_depth=30, min_samples_leaf=4, min_samples_split=5; total time=   0.0s\n",
      "[CV] END max_depth=30, min_samples_leaf=4, min_samples_split=5; total time=   0.0s\n",
      "[CV] END max_depth=None, min_samples_leaf=1, min_samples_split=5; total time=   0.0s\n",
      "[CV] END max_depth=None, min_samples_leaf=1, min_samples_split=10; total time=   0.0s\n",
      "[CV] END max_depth=None, min_samples_leaf=2, min_samples_split=10; total time=   0.0s\n",
      "[CV] END max_depth=None, min_samples_leaf=2, min_samples_split=10; total time=   0.0s\n",
      "[CV] END max_depth=10, min_samples_leaf=1, min_samples_split=2; total time=   0.0s\n",
      "[CV] END max_depth=10, min_samples_leaf=1, min_samples_split=2; total time=   0.0s\n",
      "[CV] END max_depth=10, min_samples_leaf=2, min_samples_split=10; total time=   0.0s\n",
      "[CV] END max_depth=10, min_samples_leaf=2, min_samples_split=10; total time=   0.0s\n",
      "[CV] END max_depth=10, min_samples_leaf=2, min_samples_split=10; total time=   0.0s\n",
      "[CV] END max_depth=10, min_samples_leaf=4, min_samples_split=2; total time=   0.0s\n",
      "[CV] END max_depth=20, min_samples_leaf=4, min_samples_split=2; total time=   0.0s\n",
      "[CV] END max_depth=20, min_samples_leaf=4, min_samples_split=2; total time=   0.0s\n",
      "[CV] END max_depth=20, min_samples_leaf=4, min_samples_split=2; total time=   0.0s\n",
      "[CV] END max_depth=20, min_samples_leaf=4, min_samples_split=2; total time=   0.0s\n",
      "[CV] END max_depth=30, min_samples_leaf=4, min_samples_split=2; total time=   0.0s\n",
      "[CV] END max_depth=30, min_samples_leaf=4, min_samples_split=5; total time=   0.0s\n",
      "[CV] END max_depth=None, min_samples_leaf=1, min_samples_split=2; total time=   0.0s\n",
      "[CV] END max_depth=None, min_samples_leaf=2, min_samples_split=2; total time=   0.0s\n",
      "[CV] END max_depth=None, min_samples_leaf=4, min_samples_split=2; total time=   0.0s\n",
      "[CV] END max_depth=None, min_samples_leaf=4, min_samples_split=2; total time=   0.0s\n",
      "[CV] END max_depth=10, min_samples_leaf=1, min_samples_split=5; total time=   0.0s\n",
      "[CV] END max_depth=10, min_samples_leaf=1, min_samples_split=5; total time=   0.0s\n",
      "[CV] END max_depth=10, min_samples_leaf=4, min_samples_split=2; total time=   0.0s\n",
      "[CV] END max_depth=10, min_samples_leaf=4, min_samples_split=2; total time=   0.0s\n",
      "[CV] END max_depth=10, min_samples_leaf=4, min_samples_split=2; total time=   0.0s\n",
      "[CV] END max_depth=10, min_samples_leaf=4, min_samples_split=2; total time=   0.0s\n",
      "[CV] END max_depth=20, min_samples_leaf=4, min_samples_split=2; total time=   0.0s\n",
      "[CV] END max_depth=20, min_samples_leaf=4, min_samples_split=5; total time=   0.0s\n",
      "[CV] END max_depth=20, min_samples_leaf=4, min_samples_split=5; total time=   0.0s\n",
      "[CV] END max_depth=20, min_samples_leaf=4, min_samples_split=5; total time=   0.0s\n",
      "[CV] END max_depth=30, min_samples_leaf=4, min_samples_split=2; total time=   0.0s\n",
      "[CV] END max_depth=30, min_samples_leaf=4, min_samples_split=5; total time=   0.0s\n",
      "[CV] END max_depth=None, min_samples_leaf=1, min_samples_split=2; total time=   0.0s\n",
      "[CV] END max_depth=None, min_samples_leaf=1, min_samples_split=10; total time=   0.0s\n",
      "[CV] END max_depth=None, min_samples_leaf=2, min_samples_split=10; total time=   0.0s\n",
      "[CV] END max_depth=None, min_samples_leaf=2, min_samples_split=10; total time=   0.0s\n",
      "[CV] END max_depth=10, min_samples_leaf=1, min_samples_split=5; total time=   0.0s\n",
      "[CV] END max_depth=10, min_samples_leaf=1, min_samples_split=10; total time=   0.0s\n",
      "[CV] END max_depth=10, min_samples_leaf=4, min_samples_split=5; total time=   0.0s\n",
      "[CV] END max_depth=10, min_samples_leaf=4, min_samples_split=10; total time=   0.0s\n",
      "[CV] END max_depth=10, min_samples_leaf=4, min_samples_split=10; total time=   0.0s\n",
      "[CV] END max_depth=10, min_samples_leaf=4, min_samples_split=10; total time=   0.0s\n",
      "[CV] END max_depth=20, min_samples_leaf=4, min_samples_split=10; total time=   0.0s\n",
      "[CV] END max_depth=20, min_samples_leaf=4, min_samples_split=10; total time=   0.0s\n",
      "[CV] END max_depth=20, min_samples_leaf=4, min_samples_split=10; total time=   0.0s\n",
      "[CV] END max_depth=30, min_samples_leaf=1, min_samples_split=2; total time=   0.0s\n",
      "[CV] END max_depth=30, min_samples_leaf=4, min_samples_split=5; total time=   0.0s\n",
      "[CV] END max_depth=30, min_samples_leaf=4, min_samples_split=10; total time=   0.0s\n",
      "[CV] END max_depth=None, min_samples_leaf=1, min_samples_split=5; total time=   0.0s\n",
      "[CV] END max_depth=None, min_samples_leaf=2, min_samples_split=2; total time=   0.0s\n",
      "[CV] END max_depth=None, min_samples_leaf=4, min_samples_split=2; total time=   0.0s\n",
      "[CV] END max_depth=None, min_samples_leaf=4, min_samples_split=5; total time=   0.0s\n",
      "[CV] END max_depth=10, min_samples_leaf=1, min_samples_split=10; total time=   0.0s\n",
      "[CV] END max_depth=10, min_samples_leaf=1, min_samples_split=10; total time=   0.0s\n",
      "[CV] END max_depth=10, min_samples_leaf=4, min_samples_split=10; total time=   0.0s\n",
      "[CV] END max_depth=10, min_samples_leaf=4, min_samples_split=10; total time=   0.0s\n",
      "[CV] END max_depth=20, min_samples_leaf=1, min_samples_split=2; total time=   0.0s\n",
      "[CV] END max_depth=20, min_samples_leaf=1, min_samples_split=2; total time=   0.0s\n",
      "[CV] END max_depth=30, min_samples_leaf=1, min_samples_split=5; total time=   0.0s\n",
      "[CV] END max_depth=30, min_samples_leaf=1, min_samples_split=10; total time=   0.0s\n",
      "[CV] END max_depth=30, min_samples_leaf=1, min_samples_split=10; total time=   0.0s\n",
      "[CV] END max_depth=30, min_samples_leaf=1, min_samples_split=10; total time=   0.0s\n",
      "[CV] END max_depth=30, min_samples_leaf=4, min_samples_split=10; total time=   0.0s\n"
     ]
    },
    {
     "name": "stdout",
     "output_type": "stream",
     "text": [
      "[CV] END max_depth=None, min_samples_leaf=1, min_samples_split=5; total time=   0.0s\n",
      "[CV] END max_depth=None, min_samples_leaf=2, min_samples_split=5; total time=   0.0s\n",
      "[CV] END max_depth=None, min_samples_leaf=4, min_samples_split=10; total time=   0.0s\n",
      "[CV] END max_depth=None, min_samples_leaf=4, min_samples_split=10; total time=   0.0s\n",
      "[CV] END max_depth=10, min_samples_leaf=2, min_samples_split=2; total time=   0.0s\n",
      "[CV] END max_depth=10, min_samples_leaf=2, min_samples_split=5; total time=   0.0s\n",
      "[CV] END max_depth=20, min_samples_leaf=1, min_samples_split=10; total time=   0.0s\n",
      "[CV] END max_depth=20, min_samples_leaf=1, min_samples_split=10; total time=   0.0s\n",
      "[CV] END max_depth=20, min_samples_leaf=1, min_samples_split=10; total time=   0.0s\n",
      "[CV] END max_depth=20, min_samples_leaf=1, min_samples_split=10; total time=   0.0s\n",
      "[CV] END max_depth=30, min_samples_leaf=1, min_samples_split=2; total time=   0.0s\n",
      "[CV] END max_depth=30, min_samples_leaf=1, min_samples_split=2; total time=   0.0s\n",
      "[CV] END max_depth=30, min_samples_leaf=1, min_samples_split=2; total time=   0.0s\n",
      "[CV] END max_depth=30, min_samples_leaf=1, min_samples_split=2; total time=   0.0s\n",
      "[CV] END max_depth=None, min_samples_leaf=1, min_samples_split=5; total time=   0.0s\n",
      "[CV] END max_depth=None, min_samples_leaf=2, min_samples_split=2; total time=   0.0s\n",
      "[CV] END max_depth=None, min_samples_leaf=4, min_samples_split=5; total time=   0.0s\n",
      "[CV] END max_depth=None, min_samples_leaf=4, min_samples_split=5; total time=   0.0s\n",
      "[CV] END max_depth=10, min_samples_leaf=2, min_samples_split=2; total time=   0.0s\n",
      "[CV] END max_depth=10, min_samples_leaf=2, min_samples_split=2; total time=   0.0s\n",
      "[CV] END max_depth=20, min_samples_leaf=1, min_samples_split=5; total time=   0.0s\n",
      "[CV] END max_depth=20, min_samples_leaf=1, min_samples_split=5; total time=   0.0s\n",
      "[CV] END max_depth=20, min_samples_leaf=1, min_samples_split=5; total time=   0.0s\n",
      "[CV] END max_depth=20, min_samples_leaf=1, min_samples_split=5; total time=   0.0s\n",
      "[CV] END max_depth=30, min_samples_leaf=2, min_samples_split=10; total time=   0.0s\n",
      "[CV] END max_depth=30, min_samples_leaf=2, min_samples_split=10; total time=   0.0s\n",
      "[CV] END max_depth=30, min_samples_leaf=2, min_samples_split=10; total time=   0.0s\n",
      "[CV] END max_depth=30, min_samples_leaf=2, min_samples_split=10; total time=   0.0s\n",
      "[CV] END max_depth=30, min_samples_leaf=4, min_samples_split=10; total time=   0.0s\n",
      "[CV] END max_depth=None, min_samples_leaf=1, min_samples_split=5; total time=   0.0s\n",
      "[CV] END max_depth=None, min_samples_leaf=2, min_samples_split=5; total time=   0.0s\n",
      "[CV] END max_depth=None, min_samples_leaf=4, min_samples_split=10; total time=   0.0s\n",
      "[CV] END max_depth=None, min_samples_leaf=4, min_samples_split=10; total time=   0.0s\n",
      "[CV] END max_depth=10, min_samples_leaf=2, min_samples_split=5; total time=   0.0s\n",
      "[CV] END max_depth=10, min_samples_leaf=2, min_samples_split=5; total time=   0.0s\n",
      "[CV] END max_depth=20, min_samples_leaf=1, min_samples_split=10; total time=   0.0s\n",
      "[CV] END max_depth=20, min_samples_leaf=2, min_samples_split=2; total time=   0.0s\n",
      "[CV] END max_depth=20, min_samples_leaf=2, min_samples_split=2; total time=   0.0s\n",
      "[CV] END max_depth=20, min_samples_leaf=2, min_samples_split=2; total time=   0.0s\n",
      "[CV] END max_depth=30, min_samples_leaf=1, min_samples_split=10; total time=   0.0s\n",
      "[CV] END max_depth=30, min_samples_leaf=1, min_samples_split=10; total time=   0.0s\n",
      "[CV] END max_depth=30, min_samples_leaf=2, min_samples_split=2; total time=   0.0s\n",
      "[CV] END max_depth=30, min_samples_leaf=2, min_samples_split=2; total time=   0.0s\n",
      "[CV] END max_depth=30, min_samples_leaf=4, min_samples_split=10; total time=   0.0s\n",
      "[CV] END max_depth=None, min_samples_leaf=2, min_samples_split=2; total time=   0.0s\n",
      "[CV] END max_depth=None, min_samples_leaf=4, min_samples_split=2; total time=   0.0s\n",
      "[CV] END max_depth=None, min_samples_leaf=4, min_samples_split=2; total time=   0.0s\n",
      "[CV] END max_depth=10, min_samples_leaf=1, min_samples_split=10; total time=   0.0s\n",
      "[CV] END max_depth=10, min_samples_leaf=1, min_samples_split=10; total time=   0.0s\n",
      "[CV] END max_depth=20, min_samples_leaf=1, min_samples_split=2; total time=   0.0s\n",
      "[CV] END max_depth=20, min_samples_leaf=1, min_samples_split=2; total time=   0.0s\n",
      "[CV] END max_depth=20, min_samples_leaf=1, min_samples_split=2; total time=   0.0s\n",
      "[CV] END max_depth=20, min_samples_leaf=1, min_samples_split=5; total time=   0.0s\n",
      "[CV] END max_depth=30, min_samples_leaf=2, min_samples_split=10; total time=   0.0s\n",
      "[CV] END max_depth=30, min_samples_leaf=4, min_samples_split=2; total time=   0.0s\n",
      "[CV] END max_depth=30, min_samples_leaf=4, min_samples_split=2; total time=   0.0s\n",
      "[CV] END max_depth=30, min_samples_leaf=4, min_samples_split=2; total time=   0.0s\n",
      "[CV] END max_depth=30, min_samples_leaf=4, min_samples_split=10; total time=   0.0s\n"
     ]
    }
   ],
   "source": [
    "from sklearn.svm import SVR\n",
    "\n",
    "# Initialize SVM regression model\n",
    "svm_regressor = SVR() # You can choose a different kernel based on your data\n",
    "\n",
    "# Train the SVM model using the training data\n",
    "svm_regressor.fit(X_train, y_train)\n",
    "\n",
    "# Make predictions on the test data\n",
    "predictions_svm = svm_regressor.predict(X_test)\n",
    "\n",
    "# Evaluate the SVM model (use appropriate metrics based on your regression problem)\n",
    "from sklearn.metrics import mean_squared_error, r2_score\n",
    "\n",
    "mse_svm = mean_squared_error(y_test, predictions_svm)\n",
    "r2_svm = r2_score(y_test, predictions_svm)\n",
    "\n",
    "print(\"SVM Mean Squared Error:\", mse_svm)\n",
    "print(\"SVM R-squared:\", r2_svm)"
   ]
  },
  {
   "cell_type": "markdown",
   "id": "e1cf3bd9",
   "metadata": {},
   "source": [
    "### From the values of Mean Squared Error and R-squared, we can deduce that the model suitable for the given dataset is Linear Regression. Since the data performed well and gave same results before and after tuning, we can conclude the relationships within the data were linear and straightforward."
   ]
  },
  {
   "cell_type": "markdown",
   "id": "a3cddf1f",
   "metadata": {},
   "source": [
    "### The equation from the linear regression model is the same for this dataset as well."
   ]
  },
  {
   "cell_type": "code",
   "execution_count": null,
   "id": "d8923bec",
   "metadata": {},
   "outputs": [],
   "source": []
  }
 ],
 "metadata": {
  "kernelspec": {
   "display_name": "Python 3 (ipykernel)",
   "language": "python",
   "name": "python3"
  },
  "language_info": {
   "codemirror_mode": {
    "name": "ipython",
    "version": 3
   },
   "file_extension": ".py",
   "mimetype": "text/x-python",
   "name": "python",
   "nbconvert_exporter": "python",
   "pygments_lexer": "ipython3",
   "version": "3.11.5"
  }
 },
 "nbformat": 4,
 "nbformat_minor": 5
}
